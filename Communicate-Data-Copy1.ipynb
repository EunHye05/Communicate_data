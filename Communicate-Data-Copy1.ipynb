{
 "cells": [
  {
   "cell_type": "code",
   "execution_count": 1,
   "metadata": {},
   "outputs": [],
   "source": [
    "import numpy as np\n",
    "import pandas as pd\n",
    "import matplotlib.pyplot as plt\n",
    "import seaborn as sb\n",
    "import datetime\n",
    "import requests\n",
    "import os\n",
    "import zipfile\n"
   ]
  },
  {
   "cell_type": "markdown",
   "metadata": {},
   "source": [
    "### Wrangle Data"
   ]
  },
  {
   "cell_type": "markdown",
   "metadata": {},
   "source": [
    "#### Gather, Assess, then Clean Data before moving on to exploratory analysis"
   ]
  },
  {
   "cell_type": "markdown",
   "metadata": {},
   "source": [
    "#### Gathering"
   ]
  },
  {
   "cell_type": "code",
   "execution_count": 2,
   "metadata": {},
   "outputs": [],
   "source": [
    "df = pd.read_csv('201810-fordgobike-tripdata.csv')"
   ]
  },
  {
   "cell_type": "markdown",
   "metadata": {},
   "source": [
    "#### Assessing"
   ]
  },
  {
   "cell_type": "code",
   "execution_count": 3,
   "metadata": {},
   "outputs": [
    {
     "data": {
      "text/plain": [
       "(201458, 14)"
      ]
     },
     "execution_count": 3,
     "metadata": {},
     "output_type": "execute_result"
    }
   ],
   "source": [
    "df.shape"
   ]
  },
  {
   "cell_type": "code",
   "execution_count": 4,
   "metadata": {},
   "outputs": [
    {
     "data": {
      "text/html": [
       "<div>\n",
       "<style scoped>\n",
       "    .dataframe tbody tr th:only-of-type {\n",
       "        vertical-align: middle;\n",
       "    }\n",
       "\n",
       "    .dataframe tbody tr th {\n",
       "        vertical-align: top;\n",
       "    }\n",
       "\n",
       "    .dataframe thead th {\n",
       "        text-align: right;\n",
       "    }\n",
       "</style>\n",
       "<table border=\"1\" class=\"dataframe\">\n",
       "  <thead>\n",
       "    <tr style=\"text-align: right;\">\n",
       "      <th></th>\n",
       "      <th>duration_sec</th>\n",
       "      <th>start_time</th>\n",
       "      <th>end_time</th>\n",
       "      <th>start_station_id</th>\n",
       "      <th>start_station_name</th>\n",
       "      <th>start_station_latitude</th>\n",
       "      <th>start_station_longitude</th>\n",
       "      <th>end_station_id</th>\n",
       "      <th>end_station_name</th>\n",
       "      <th>end_station_latitude</th>\n",
       "      <th>end_station_longitude</th>\n",
       "      <th>bike_id</th>\n",
       "      <th>user_type</th>\n",
       "      <th>bike_share_for_all_trip</th>\n",
       "    </tr>\n",
       "  </thead>\n",
       "  <tbody>\n",
       "    <tr>\n",
       "      <th>198392</th>\n",
       "      <td>321</td>\n",
       "      <td>2018-10-01 11:56:17.3490</td>\n",
       "      <td>2018-10-01 12:01:39.1120</td>\n",
       "      <td>22.0</td>\n",
       "      <td>Howard St at Beale St</td>\n",
       "      <td>37.789756</td>\n",
       "      <td>-122.394643</td>\n",
       "      <td>21.0</td>\n",
       "      <td>Montgomery St BART Station (Market St at 2nd St)</td>\n",
       "      <td>37.789625</td>\n",
       "      <td>-122.400811</td>\n",
       "      <td>793</td>\n",
       "      <td>Subscriber</td>\n",
       "      <td>No</td>\n",
       "    </tr>\n",
       "    <tr>\n",
       "      <th>164067</th>\n",
       "      <td>712</td>\n",
       "      <td>2018-10-06 00:05:58.2290</td>\n",
       "      <td>2018-10-06 00:17:51.1350</td>\n",
       "      <td>323.0</td>\n",
       "      <td>Broadway at Kearny</td>\n",
       "      <td>37.798014</td>\n",
       "      <td>-122.405950</td>\n",
       "      <td>3.0</td>\n",
       "      <td>Powell St BART Station (Market St at 4th St)</td>\n",
       "      <td>37.786375</td>\n",
       "      <td>-122.404904</td>\n",
       "      <td>1837</td>\n",
       "      <td>Customer</td>\n",
       "      <td>No</td>\n",
       "    </tr>\n",
       "    <tr>\n",
       "      <th>182132</th>\n",
       "      <td>1360</td>\n",
       "      <td>2018-10-03 16:30:20.1340</td>\n",
       "      <td>2018-10-03 16:53:00.6870</td>\n",
       "      <td>24.0</td>\n",
       "      <td>Spear St at Folsom St</td>\n",
       "      <td>37.789677</td>\n",
       "      <td>-122.390428</td>\n",
       "      <td>107.0</td>\n",
       "      <td>17th St at Dolores St</td>\n",
       "      <td>37.763015</td>\n",
       "      <td>-122.426497</td>\n",
       "      <td>527</td>\n",
       "      <td>Subscriber</td>\n",
       "      <td>No</td>\n",
       "    </tr>\n",
       "    <tr>\n",
       "      <th>38108</th>\n",
       "      <td>432</td>\n",
       "      <td>2018-10-25 17:57:04.4800</td>\n",
       "      <td>2018-10-25 18:04:16.8900</td>\n",
       "      <td>58.0</td>\n",
       "      <td>Market St at 10th St</td>\n",
       "      <td>37.776619</td>\n",
       "      <td>-122.417385</td>\n",
       "      <td>98.0</td>\n",
       "      <td>Valencia St at 16th St</td>\n",
       "      <td>37.765052</td>\n",
       "      <td>-122.421866</td>\n",
       "      <td>3224</td>\n",
       "      <td>Subscriber</td>\n",
       "      <td>No</td>\n",
       "    </tr>\n",
       "    <tr>\n",
       "      <th>119898</th>\n",
       "      <td>338</td>\n",
       "      <td>2018-10-12 18:50:08.9730</td>\n",
       "      <td>2018-10-12 18:55:47.3240</td>\n",
       "      <td>67.0</td>\n",
       "      <td>San Francisco Caltrain Station 2  (Townsend St...</td>\n",
       "      <td>37.776639</td>\n",
       "      <td>-122.395526</td>\n",
       "      <td>350.0</td>\n",
       "      <td>8th St at Brannan St</td>\n",
       "      <td>37.771431</td>\n",
       "      <td>-122.405787</td>\n",
       "      <td>1095</td>\n",
       "      <td>Subscriber</td>\n",
       "      <td>No</td>\n",
       "    </tr>\n",
       "  </tbody>\n",
       "</table>\n",
       "</div>"
      ],
      "text/plain": [
       "        duration_sec                start_time                  end_time  \\\n",
       "198392           321  2018-10-01 11:56:17.3490  2018-10-01 12:01:39.1120   \n",
       "164067           712  2018-10-06 00:05:58.2290  2018-10-06 00:17:51.1350   \n",
       "182132          1360  2018-10-03 16:30:20.1340  2018-10-03 16:53:00.6870   \n",
       "38108            432  2018-10-25 17:57:04.4800  2018-10-25 18:04:16.8900   \n",
       "119898           338  2018-10-12 18:50:08.9730  2018-10-12 18:55:47.3240   \n",
       "\n",
       "        start_station_id                                 start_station_name  \\\n",
       "198392              22.0                              Howard St at Beale St   \n",
       "164067             323.0                                 Broadway at Kearny   \n",
       "182132              24.0                              Spear St at Folsom St   \n",
       "38108               58.0                               Market St at 10th St   \n",
       "119898              67.0  San Francisco Caltrain Station 2  (Townsend St...   \n",
       "\n",
       "        start_station_latitude  start_station_longitude  end_station_id  \\\n",
       "198392               37.789756              -122.394643            21.0   \n",
       "164067               37.798014              -122.405950             3.0   \n",
       "182132               37.789677              -122.390428           107.0   \n",
       "38108                37.776619              -122.417385            98.0   \n",
       "119898               37.776639              -122.395526           350.0   \n",
       "\n",
       "                                        end_station_name  \\\n",
       "198392  Montgomery St BART Station (Market St at 2nd St)   \n",
       "164067      Powell St BART Station (Market St at 4th St)   \n",
       "182132                             17th St at Dolores St   \n",
       "38108                             Valencia St at 16th St   \n",
       "119898                              8th St at Brannan St   \n",
       "\n",
       "        end_station_latitude  end_station_longitude  bike_id   user_type  \\\n",
       "198392             37.789625            -122.400811      793  Subscriber   \n",
       "164067             37.786375            -122.404904     1837    Customer   \n",
       "182132             37.763015            -122.426497      527  Subscriber   \n",
       "38108              37.765052            -122.421866     3224  Subscriber   \n",
       "119898             37.771431            -122.405787     1095  Subscriber   \n",
       "\n",
       "       bike_share_for_all_trip  \n",
       "198392                      No  \n",
       "164067                      No  \n",
       "182132                      No  \n",
       "38108                       No  \n",
       "119898                      No  "
      ]
     },
     "execution_count": 4,
     "metadata": {},
     "output_type": "execute_result"
    }
   ],
   "source": [
    "df.sample(5)"
   ]
  },
  {
   "cell_type": "code",
   "execution_count": 5,
   "metadata": {},
   "outputs": [
    {
     "name": "stdout",
     "output_type": "stream",
     "text": [
      "<class 'pandas.core.frame.DataFrame'>\n",
      "RangeIndex: 201458 entries, 0 to 201457\n",
      "Data columns (total 14 columns):\n",
      " #   Column                   Non-Null Count   Dtype  \n",
      "---  ------                   --------------   -----  \n",
      " 0   duration_sec             201458 non-null  int64  \n",
      " 1   start_time               201458 non-null  object \n",
      " 2   end_time                 201458 non-null  object \n",
      " 3   start_station_id         200102 non-null  float64\n",
      " 4   start_station_name       200102 non-null  object \n",
      " 5   start_station_latitude   201458 non-null  float64\n",
      " 6   start_station_longitude  201458 non-null  float64\n",
      " 7   end_station_id           200102 non-null  float64\n",
      " 8   end_station_name         200102 non-null  object \n",
      " 9   end_station_latitude     201458 non-null  float64\n",
      " 10  end_station_longitude    201458 non-null  float64\n",
      " 11  bike_id                  201458 non-null  int64  \n",
      " 12  user_type                201458 non-null  object \n",
      " 13  bike_share_for_all_trip  201458 non-null  object \n",
      "dtypes: float64(6), int64(2), object(6)\n",
      "memory usage: 21.5+ MB\n"
     ]
    }
   ],
   "source": [
    "df.info()"
   ]
  },
  {
   "cell_type": "markdown",
   "metadata": {},
   "source": [
    "Detect 1: start_time and end_time is not in datetime data type."
   ]
  },
  {
   "cell_type": "markdown",
   "metadata": {},
   "source": [
    "Detec 2: Ids are ideal to be in integer datatype not float. Therefore Start_station_id, end_station_id need to change the data type."
   ]
  },
  {
   "cell_type": "code",
   "execution_count": 6,
   "metadata": {},
   "outputs": [
    {
     "data": {
      "text/plain": [
       "duration_sec                  0\n",
       "start_time                    0\n",
       "end_time                      0\n",
       "start_station_id           1356\n",
       "start_station_name         1356\n",
       "start_station_latitude        0\n",
       "start_station_longitude       0\n",
       "end_station_id             1356\n",
       "end_station_name           1356\n",
       "end_station_latitude          0\n",
       "end_station_longitude         0\n",
       "bike_id                       0\n",
       "user_type                     0\n",
       "bike_share_for_all_trip       0\n",
       "dtype: int64"
      ]
     },
     "execution_count": 6,
     "metadata": {},
     "output_type": "execute_result"
    }
   ],
   "source": [
    "df.isnull().sum()"
   ]
  },
  {
   "cell_type": "markdown",
   "metadata": {},
   "source": [
    "Detect 3: Null values detected undert start_station_id, start_station_name, end_station_id, end_station_name."
   ]
  },
  {
   "cell_type": "markdown",
   "metadata": {},
   "source": [
    "Detect 4: Drop the rows with null values"
   ]
  },
  {
   "cell_type": "code",
   "execution_count": 7,
   "metadata": {},
   "outputs": [
    {
     "data": {
      "text/plain": [
       "0"
      ]
     },
     "execution_count": 7,
     "metadata": {},
     "output_type": "execute_result"
    }
   ],
   "source": [
    "df.duplicated().sum()"
   ]
  },
  {
   "cell_type": "code",
   "execution_count": 8,
   "metadata": {},
   "outputs": [
    {
     "data": {
      "text/plain": [
       "No     182932\n",
       "Yes     18526\n",
       "Name: bike_share_for_all_trip, dtype: int64"
      ]
     },
     "execution_count": 8,
     "metadata": {},
     "output_type": "execute_result"
    }
   ],
   "source": [
    "df.bike_share_for_all_trip.value_counts()"
   ]
  },
  {
   "cell_type": "code",
   "execution_count": 9,
   "metadata": {},
   "outputs": [
    {
     "data": {
      "text/plain": [
       "Subscriber    175215\n",
       "Customer       26243\n",
       "Name: user_type, dtype: int64"
      ]
     },
     "execution_count": 9,
     "metadata": {},
     "output_type": "execute_result"
    }
   ],
   "source": [
    "df.user_type.value_counts()"
   ]
  },
  {
   "cell_type": "code",
   "execution_count": 10,
   "metadata": {},
   "outputs": [
    {
     "data": {
      "text/plain": [
       "201139"
      ]
     },
     "execution_count": 10,
     "metadata": {},
     "output_type": "execute_result"
    }
   ],
   "source": [
    "df['start_station_id'].duplicated().sum()"
   ]
  },
  {
   "cell_type": "code",
   "execution_count": 11,
   "metadata": {},
   "outputs": [
    {
     "data": {
      "text/plain": [
       "201139"
      ]
     },
     "execution_count": 11,
     "metadata": {},
     "output_type": "execute_result"
    }
   ],
   "source": [
    "df['end_station_id'].duplicated().sum()"
   ]
  },
  {
   "cell_type": "code",
   "execution_count": 12,
   "metadata": {},
   "outputs": [
    {
     "data": {
      "text/plain": [
       "198545"
      ]
     },
     "execution_count": 12,
     "metadata": {},
     "output_type": "execute_result"
    }
   ],
   "source": [
    "df['bike_id'].duplicated().sum()"
   ]
  },
  {
   "cell_type": "markdown",
   "metadata": {},
   "source": [
    "Detect 5: Remove duplicated id (?????)"
   ]
  },
  {
   "cell_type": "markdown",
   "metadata": {},
   "source": [
    "### Assessment conclusion\n",
    "\n",
    "1."
   ]
  },
  {
   "cell_type": "markdown",
   "metadata": {},
   "source": [
    "### What is the structure of your dataset? \n",
    "### What is/are the main feature(s) of interest in your dataset? \n",
    "### What features in the dataset do you think will help support your investigation into your feature(s) of interest? \n"
   ]
  },
  {
   "cell_type": "markdown",
   "metadata": {},
   "source": [
    "1. Change start_time and end_time data type to datetime"
   ]
  },
  {
   "cell_type": "code",
   "execution_count": 66,
   "metadata": {},
   "outputs": [],
   "source": [
    "df['start_time'] = pd.to_datetime(df['start_time'])"
   ]
  },
  {
   "cell_type": "code",
   "execution_count": 67,
   "metadata": {},
   "outputs": [],
   "source": [
    "df['end_time'] = pd.to_datetime(df['end_time'])"
   ]
  },
  {
   "cell_type": "code",
   "execution_count": 68,
   "metadata": {},
   "outputs": [
    {
     "name": "stdout",
     "output_type": "stream",
     "text": [
      "<class 'pandas.core.frame.DataFrame'>\n",
      "RangeIndex: 201458 entries, 0 to 201457\n",
      "Data columns (total 14 columns):\n",
      " #   Column                   Non-Null Count   Dtype         \n",
      "---  ------                   --------------   -----         \n",
      " 0   duration_sec             201458 non-null  int64         \n",
      " 1   start_time               201458 non-null  datetime64[ns]\n",
      " 2   end_time                 201458 non-null  datetime64[ns]\n",
      " 3   start_station_id         200102 non-null  float64       \n",
      " 4   start_station_name       200102 non-null  object        \n",
      " 5   start_station_latitude   201458 non-null  float64       \n",
      " 6   start_station_longitude  201458 non-null  float64       \n",
      " 7   end_station_id           200102 non-null  float64       \n",
      " 8   end_station_name         200102 non-null  object        \n",
      " 9   end_station_latitude     201458 non-null  float64       \n",
      " 10  end_station_longitude    201458 non-null  float64       \n",
      " 11  bike_id                  201458 non-null  int64         \n",
      " 12  user_type                201458 non-null  object        \n",
      " 13  bike_share_for_all_trip  201458 non-null  object        \n",
      "dtypes: datetime64[ns](2), float64(6), int64(2), object(4)\n",
      "memory usage: 21.5+ MB\n"
     ]
    }
   ],
   "source": [
    "df.info()"
   ]
  },
  {
   "cell_type": "code",
   "execution_count": 69,
   "metadata": {},
   "outputs": [
    {
     "data": {
      "text/plain": [
       "176746   2018-10-04 09:35:42.338\n",
       "191879   2018-10-02 10:49:52.342\n",
       "136622   2018-10-10 16:01:39.624\n",
       "5811     2018-10-31 08:51:00.054\n",
       "25288    2018-10-27 23:40:38.651\n",
       "Name: start_time, dtype: datetime64[ns]"
      ]
     },
     "execution_count": 69,
     "metadata": {},
     "output_type": "execute_result"
    }
   ],
   "source": [
    "df.start_time.sample(5)"
   ]
  },
  {
   "cell_type": "code",
   "execution_count": 70,
   "metadata": {},
   "outputs": [
    {
     "data": {
      "text/plain": [
       "170721   2018-10-05 07:52:54.009\n",
       "61696    2018-10-22 16:44:49.163\n",
       "50771    2018-10-24 07:42:44.107\n",
       "43823    2018-10-24 21:20:13.321\n",
       "110103   2018-10-15 08:17:00.265\n",
       "Name: end_time, dtype: datetime64[ns]"
      ]
     },
     "execution_count": 70,
     "metadata": {},
     "output_type": "execute_result"
    }
   ],
   "source": [
    "df.end_time.sample(5)"
   ]
  },
  {
   "cell_type": "markdown",
   "metadata": {},
   "source": [
    "3. Replace to 0 for null values under start_station_id, start_station_name, end_station_id, end_station_name."
   ]
  },
  {
   "cell_type": "code",
   "execution_count": 14,
   "metadata": {},
   "outputs": [],
   "source": [
    "df = df.dropna(how='any',axis=0) "
   ]
  },
  {
   "cell_type": "code",
   "execution_count": 15,
   "metadata": {},
   "outputs": [
    {
     "data": {
      "text/plain": [
       "duration_sec               0\n",
       "start_time                 0\n",
       "end_time                   0\n",
       "start_station_id           0\n",
       "start_station_name         0\n",
       "start_station_latitude     0\n",
       "start_station_longitude    0\n",
       "end_station_id             0\n",
       "end_station_name           0\n",
       "end_station_latitude       0\n",
       "end_station_longitude      0\n",
       "bike_id                    0\n",
       "user_type                  0\n",
       "bike_share_for_all_trip    0\n",
       "dtype: int64"
      ]
     },
     "execution_count": 15,
     "metadata": {},
     "output_type": "execute_result"
    }
   ],
   "source": [
    "df.isnull().sum()"
   ]
  },
  {
   "cell_type": "code",
   "execution_count": 16,
   "metadata": {},
   "outputs": [
    {
     "data": {
      "text/plain": [
       "(200102, 14)"
      ]
     },
     "execution_count": 16,
     "metadata": {},
     "output_type": "execute_result"
    }
   ],
   "source": [
    "df.shape"
   ]
  },
  {
   "cell_type": "markdown",
   "metadata": {},
   "source": [
    "3. Change Start_station_id, end_station_id, bike_id Ids datatype to integer."
   ]
  },
  {
   "cell_type": "code",
   "execution_count": 17,
   "metadata": {},
   "outputs": [],
   "source": [
    "df['start_station_id'] = pd.to_numeric(df['start_station_id'])\n",
    "df['end_station_id '] = pd.to_numeric(df['end_station_id'])\n",
    "df['bike_id'] = pd.to_numeric(df['bike_id'])"
   ]
  },
  {
   "cell_type": "code",
   "execution_count": 18,
   "metadata": {},
   "outputs": [
    {
     "name": "stdout",
     "output_type": "stream",
     "text": [
      "<class 'pandas.core.frame.DataFrame'>\n",
      "Int64Index: 200102 entries, 0 to 201457\n",
      "Data columns (total 15 columns):\n",
      " #   Column                   Non-Null Count   Dtype  \n",
      "---  ------                   --------------   -----  \n",
      " 0   duration_sec             200102 non-null  int64  \n",
      " 1   start_time               200102 non-null  object \n",
      " 2   end_time                 200102 non-null  object \n",
      " 3   start_station_id         200102 non-null  float64\n",
      " 4   start_station_name       200102 non-null  object \n",
      " 5   start_station_latitude   200102 non-null  float64\n",
      " 6   start_station_longitude  200102 non-null  float64\n",
      " 7   end_station_id           200102 non-null  float64\n",
      " 8   end_station_name         200102 non-null  object \n",
      " 9   end_station_latitude     200102 non-null  float64\n",
      " 10  end_station_longitude    200102 non-null  float64\n",
      " 11  bike_id                  200102 non-null  int64  \n",
      " 12  user_type                200102 non-null  object \n",
      " 13  bike_share_for_all_trip  200102 non-null  object \n",
      " 14  end_station_id           200102 non-null  float64\n",
      "dtypes: float64(7), int64(2), object(6)\n",
      "memory usage: 24.4+ MB\n"
     ]
    }
   ],
   "source": [
    "df.info()"
   ]
  },
  {
   "cell_type": "code",
   "execution_count": null,
   "metadata": {},
   "outputs": [],
   "source": []
  }
 ],
 "metadata": {
  "kernelspec": {
   "display_name": "Python 3",
   "language": "python",
   "name": "python3"
  },
  "language_info": {
   "codemirror_mode": {
    "name": "ipython",
    "version": 3
   },
   "file_extension": ".py",
   "mimetype": "text/x-python",
   "name": "python",
   "nbconvert_exporter": "python",
   "pygments_lexer": "ipython3",
   "version": "3.7.6"
  }
 },
 "nbformat": 4,
 "nbformat_minor": 4
}
