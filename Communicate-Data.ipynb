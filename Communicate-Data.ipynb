{
 "cells": [
  {
   "cell_type": "code",
   "execution_count": 1,
   "metadata": {
    "slideshow": {
     "slide_type": "skip"
    }
   },
   "outputs": [],
   "source": [
    "import numpy as np\n",
    "import pandas as pd\n",
    "import matplotlib.pyplot as plt\n",
    "import seaborn as sb\n",
    "import datetime\n",
    "import requests\n",
    "import os\n",
    "import zipfile\n",
    "from sklearn.cluster import KMeans\n",
    "%matplotlib inline"
   ]
  },
  {
   "cell_type": "markdown",
   "metadata": {
    "slideshow": {
     "slide_type": "slide"
    }
   },
   "source": [
    "### Wrangle Data"
   ]
  },
  {
   "cell_type": "markdown",
   "metadata": {
    "slideshow": {
     "slide_type": "slide"
    }
   },
   "source": [
    "#### Gather, Assess, then Clean Data before moving on to exploratory analysis"
   ]
  },
  {
   "cell_type": "markdown",
   "metadata": {
    "slideshow": {
     "slide_type": "slide"
    }
   },
   "source": [
    "### Gathering"
   ]
  },
  {
   "cell_type": "code",
   "execution_count": 2,
   "metadata": {
    "slideshow": {
     "slide_type": "skip"
    }
   },
   "outputs": [],
   "source": [
    "df = pd.read_csv('201802-fordgobike-tripdata-2.csv')"
   ]
  },
  {
   "cell_type": "markdown",
   "metadata": {
    "slideshow": {
     "slide_type": "slide"
    }
   },
   "source": [
    "### Assessing"
   ]
  },
  {
   "cell_type": "code",
   "execution_count": 3,
   "metadata": {
    "slideshow": {
     "slide_type": "skip"
    }
   },
   "outputs": [
    {
     "data": {
      "text/plain": [
       "(106718, 16)"
      ]
     },
     "execution_count": 3,
     "metadata": {},
     "output_type": "execute_result"
    }
   ],
   "source": [
    "df.shape"
   ]
  },
  {
   "cell_type": "code",
   "execution_count": 4,
   "metadata": {
    "slideshow": {
     "slide_type": "subslide"
    }
   },
   "outputs": [
    {
     "data": {
      "text/html": [
       "<div>\n",
       "<style scoped>\n",
       "    .dataframe tbody tr th:only-of-type {\n",
       "        vertical-align: middle;\n",
       "    }\n",
       "\n",
       "    .dataframe tbody tr th {\n",
       "        vertical-align: top;\n",
       "    }\n",
       "\n",
       "    .dataframe thead th {\n",
       "        text-align: right;\n",
       "    }\n",
       "</style>\n",
       "<table border=\"1\" class=\"dataframe\">\n",
       "  <thead>\n",
       "    <tr style=\"text-align: right;\">\n",
       "      <th></th>\n",
       "      <th>duration_sec</th>\n",
       "      <th>start_time</th>\n",
       "      <th>end_time</th>\n",
       "      <th>start_station_id</th>\n",
       "      <th>start_station_name</th>\n",
       "      <th>start_station_latitude</th>\n",
       "      <th>start_station_longitude</th>\n",
       "      <th>end_station_id</th>\n",
       "      <th>end_station_name</th>\n",
       "      <th>end_station_latitude</th>\n",
       "      <th>end_station_longitude</th>\n",
       "      <th>bike_id</th>\n",
       "      <th>user_type</th>\n",
       "      <th>member_birth_year</th>\n",
       "      <th>member_gender</th>\n",
       "      <th>bike_share_for_all_trip</th>\n",
       "    </tr>\n",
       "  </thead>\n",
       "  <tbody>\n",
       "    <tr>\n",
       "      <th>45361</th>\n",
       "      <td>545</td>\n",
       "      <td>2018-02-15 14:39:53.0730</td>\n",
       "      <td>2018-02-15 14:48:58.0810</td>\n",
       "      <td>258</td>\n",
       "      <td>University Ave at Oxford St</td>\n",
       "      <td>37.872355</td>\n",
       "      <td>-122.266447</td>\n",
       "      <td>274</td>\n",
       "      <td>Oregon St at Adeline St</td>\n",
       "      <td>37.857567</td>\n",
       "      <td>-122.267558</td>\n",
       "      <td>2921</td>\n",
       "      <td>Subscriber</td>\n",
       "      <td>1966.0</td>\n",
       "      <td>Male</td>\n",
       "      <td>No</td>\n",
       "    </tr>\n",
       "    <tr>\n",
       "      <th>4711</th>\n",
       "      <td>976</td>\n",
       "      <td>2018-02-27 19:12:25.7820</td>\n",
       "      <td>2018-02-27 19:28:42.0670</td>\n",
       "      <td>239</td>\n",
       "      <td>Bancroft Way at Telegraph Ave</td>\n",
       "      <td>37.868813</td>\n",
       "      <td>-122.258764</td>\n",
       "      <td>205</td>\n",
       "      <td>Shafter Ave at Cavour St</td>\n",
       "      <td>37.837947</td>\n",
       "      <td>-122.257243</td>\n",
       "      <td>2009</td>\n",
       "      <td>Subscriber</td>\n",
       "      <td>1973.0</td>\n",
       "      <td>Male</td>\n",
       "      <td>No</td>\n",
       "    </tr>\n",
       "    <tr>\n",
       "      <th>78356</th>\n",
       "      <td>594</td>\n",
       "      <td>2018-02-07 18:43:56.0660</td>\n",
       "      <td>2018-02-07 18:53:50.8740</td>\n",
       "      <td>144</td>\n",
       "      <td>Precita Park</td>\n",
       "      <td>37.747300</td>\n",
       "      <td>-122.411403</td>\n",
       "      <td>133</td>\n",
       "      <td>Valencia St at 22nd St</td>\n",
       "      <td>37.755213</td>\n",
       "      <td>-122.420975</td>\n",
       "      <td>2150</td>\n",
       "      <td>Subscriber</td>\n",
       "      <td>1982.0</td>\n",
       "      <td>Female</td>\n",
       "      <td>No</td>\n",
       "    </tr>\n",
       "    <tr>\n",
       "      <th>71912</th>\n",
       "      <td>139</td>\n",
       "      <td>2018-02-09 07:53:32.3240</td>\n",
       "      <td>2018-02-09 07:55:51.3380</td>\n",
       "      <td>39</td>\n",
       "      <td>Scott St at Golden Gate Ave</td>\n",
       "      <td>37.778999</td>\n",
       "      <td>-122.436861</td>\n",
       "      <td>31</td>\n",
       "      <td>Raymond Kimbell Playground</td>\n",
       "      <td>37.783813</td>\n",
       "      <td>-122.434559</td>\n",
       "      <td>1976</td>\n",
       "      <td>Subscriber</td>\n",
       "      <td>1993.0</td>\n",
       "      <td>Male</td>\n",
       "      <td>No</td>\n",
       "    </tr>\n",
       "    <tr>\n",
       "      <th>69495</th>\n",
       "      <td>518</td>\n",
       "      <td>2018-02-09 15:30:07.0340</td>\n",
       "      <td>2018-02-09 15:38:45.1690</td>\n",
       "      <td>118</td>\n",
       "      <td>Eureka Valley Recreation Center</td>\n",
       "      <td>37.759177</td>\n",
       "      <td>-122.436943</td>\n",
       "      <td>86</td>\n",
       "      <td>Market St at Dolores St</td>\n",
       "      <td>37.769305</td>\n",
       "      <td>-122.426826</td>\n",
       "      <td>3576</td>\n",
       "      <td>Subscriber</td>\n",
       "      <td>1969.0</td>\n",
       "      <td>Male</td>\n",
       "      <td>No</td>\n",
       "    </tr>\n",
       "  </tbody>\n",
       "</table>\n",
       "</div>"
      ],
      "text/plain": [
       "       duration_sec                start_time                  end_time  \\\n",
       "45361           545  2018-02-15 14:39:53.0730  2018-02-15 14:48:58.0810   \n",
       "4711            976  2018-02-27 19:12:25.7820  2018-02-27 19:28:42.0670   \n",
       "78356           594  2018-02-07 18:43:56.0660  2018-02-07 18:53:50.8740   \n",
       "71912           139  2018-02-09 07:53:32.3240  2018-02-09 07:55:51.3380   \n",
       "69495           518  2018-02-09 15:30:07.0340  2018-02-09 15:38:45.1690   \n",
       "\n",
       "       start_station_id               start_station_name  \\\n",
       "45361               258      University Ave at Oxford St   \n",
       "4711                239    Bancroft Way at Telegraph Ave   \n",
       "78356               144                     Precita Park   \n",
       "71912                39      Scott St at Golden Gate Ave   \n",
       "69495               118  Eureka Valley Recreation Center   \n",
       "\n",
       "       start_station_latitude  start_station_longitude  end_station_id  \\\n",
       "45361               37.872355              -122.266447             274   \n",
       "4711                37.868813              -122.258764             205   \n",
       "78356               37.747300              -122.411403             133   \n",
       "71912               37.778999              -122.436861              31   \n",
       "69495               37.759177              -122.436943              86   \n",
       "\n",
       "                 end_station_name  end_station_latitude  \\\n",
       "45361     Oregon St at Adeline St             37.857567   \n",
       "4711     Shafter Ave at Cavour St             37.837947   \n",
       "78356      Valencia St at 22nd St             37.755213   \n",
       "71912  Raymond Kimbell Playground             37.783813   \n",
       "69495     Market St at Dolores St             37.769305   \n",
       "\n",
       "       end_station_longitude  bike_id   user_type  member_birth_year  \\\n",
       "45361            -122.267558     2921  Subscriber             1966.0   \n",
       "4711             -122.257243     2009  Subscriber             1973.0   \n",
       "78356            -122.420975     2150  Subscriber             1982.0   \n",
       "71912            -122.434559     1976  Subscriber             1993.0   \n",
       "69495            -122.426826     3576  Subscriber             1969.0   \n",
       "\n",
       "      member_gender bike_share_for_all_trip  \n",
       "45361          Male                      No  \n",
       "4711           Male                      No  \n",
       "78356        Female                      No  \n",
       "71912          Male                      No  \n",
       "69495          Male                      No  "
      ]
     },
     "execution_count": 4,
     "metadata": {},
     "output_type": "execute_result"
    }
   ],
   "source": [
    "df.sample(5)"
   ]
  },
  {
   "cell_type": "code",
   "execution_count": 5,
   "metadata": {
    "slideshow": {
     "slide_type": "skip"
    }
   },
   "outputs": [
    {
     "name": "stdout",
     "output_type": "stream",
     "text": [
      "<class 'pandas.core.frame.DataFrame'>\n",
      "RangeIndex: 106718 entries, 0 to 106717\n",
      "Data columns (total 16 columns):\n",
      " #   Column                   Non-Null Count   Dtype  \n",
      "---  ------                   --------------   -----  \n",
      " 0   duration_sec             106718 non-null  int64  \n",
      " 1   start_time               106718 non-null  object \n",
      " 2   end_time                 106718 non-null  object \n",
      " 3   start_station_id         106718 non-null  int64  \n",
      " 4   start_station_name       106718 non-null  object \n",
      " 5   start_station_latitude   106718 non-null  float64\n",
      " 6   start_station_longitude  106718 non-null  float64\n",
      " 7   end_station_id           106718 non-null  int64  \n",
      " 8   end_station_name         106718 non-null  object \n",
      " 9   end_station_latitude     106718 non-null  float64\n",
      " 10  end_station_longitude    106718 non-null  float64\n",
      " 11  bike_id                  106718 non-null  int64  \n",
      " 12  user_type                106718 non-null  object \n",
      " 13  member_birth_year        98626 non-null   float64\n",
      " 14  member_gender            98662 non-null   object \n",
      " 15  bike_share_for_all_trip  106718 non-null  object \n",
      "dtypes: float64(5), int64(4), object(7)\n",
      "memory usage: 13.0+ MB\n"
     ]
    }
   ],
   "source": [
    "df.info()"
   ]
  },
  {
   "cell_type": "code",
   "execution_count": 6,
   "metadata": {
    "slideshow": {
     "slide_type": "skip"
    }
   },
   "outputs": [
    {
     "data": {
      "text/html": [
       "<div>\n",
       "<style scoped>\n",
       "    .dataframe tbody tr th:only-of-type {\n",
       "        vertical-align: middle;\n",
       "    }\n",
       "\n",
       "    .dataframe tbody tr th {\n",
       "        vertical-align: top;\n",
       "    }\n",
       "\n",
       "    .dataframe thead th {\n",
       "        text-align: right;\n",
       "    }\n",
       "</style>\n",
       "<table border=\"1\" class=\"dataframe\">\n",
       "  <thead>\n",
       "    <tr style=\"text-align: right;\">\n",
       "      <th></th>\n",
       "      <th>duration_sec</th>\n",
       "      <th>start_time</th>\n",
       "      <th>end_time</th>\n",
       "      <th>start_station_id</th>\n",
       "      <th>start_station_name</th>\n",
       "      <th>start_station_latitude</th>\n",
       "      <th>start_station_longitude</th>\n",
       "      <th>end_station_id</th>\n",
       "      <th>end_station_name</th>\n",
       "      <th>end_station_latitude</th>\n",
       "      <th>end_station_longitude</th>\n",
       "      <th>bike_id</th>\n",
       "      <th>user_type</th>\n",
       "      <th>member_birth_year</th>\n",
       "      <th>member_gender</th>\n",
       "      <th>bike_share_for_all_trip</th>\n",
       "    </tr>\n",
       "  </thead>\n",
       "  <tbody>\n",
       "    <tr>\n",
       "      <th>80639</th>\n",
       "      <td>1274</td>\n",
       "      <td>2018-02-07 10:52:36.5200</td>\n",
       "      <td>2018-02-07 11:13:51.4920</td>\n",
       "      <td>110</td>\n",
       "      <td>17th &amp; Folsom Street Park (17th St at Folsom St)</td>\n",
       "      <td>37.763708</td>\n",
       "      <td>-122.415204</td>\n",
       "      <td>37</td>\n",
       "      <td>2nd St at Folsom St</td>\n",
       "      <td>37.785000</td>\n",
       "      <td>-122.395936</td>\n",
       "      <td>1110</td>\n",
       "      <td>Subscriber</td>\n",
       "      <td>1949.0</td>\n",
       "      <td>Male</td>\n",
       "      <td>No</td>\n",
       "    </tr>\n",
       "    <tr>\n",
       "      <th>73354</th>\n",
       "      <td>658</td>\n",
       "      <td>2018-02-08 18:17:14.7310</td>\n",
       "      <td>2018-02-08 18:28:13.3810</td>\n",
       "      <td>33</td>\n",
       "      <td>Golden Gate Ave at Hyde St</td>\n",
       "      <td>37.781650</td>\n",
       "      <td>-122.415408</td>\n",
       "      <td>30</td>\n",
       "      <td>San Francisco Caltrain (Townsend St at 4th St)</td>\n",
       "      <td>37.776598</td>\n",
       "      <td>-122.395282</td>\n",
       "      <td>1226</td>\n",
       "      <td>Subscriber</td>\n",
       "      <td>1986.0</td>\n",
       "      <td>Male</td>\n",
       "      <td>No</td>\n",
       "    </tr>\n",
       "    <tr>\n",
       "      <th>11439</th>\n",
       "      <td>839</td>\n",
       "      <td>2018-02-26 09:07:52.9460</td>\n",
       "      <td>2018-02-26 09:21:52.2100</td>\n",
       "      <td>30</td>\n",
       "      <td>San Francisco Caltrain (Townsend St at 4th St)</td>\n",
       "      <td>37.776598</td>\n",
       "      <td>-122.395282</td>\n",
       "      <td>22</td>\n",
       "      <td>Howard St at Beale St</td>\n",
       "      <td>37.789756</td>\n",
       "      <td>-122.394643</td>\n",
       "      <td>2786</td>\n",
       "      <td>Subscriber</td>\n",
       "      <td>1989.0</td>\n",
       "      <td>Male</td>\n",
       "      <td>No</td>\n",
       "    </tr>\n",
       "    <tr>\n",
       "      <th>24857</th>\n",
       "      <td>446</td>\n",
       "      <td>2018-02-21 18:07:00.1670</td>\n",
       "      <td>2018-02-21 18:14:26.3700</td>\n",
       "      <td>342</td>\n",
       "      <td>Colin P Kelly Jr St at Townsend St (Temporary ...</td>\n",
       "      <td>37.781383</td>\n",
       "      <td>-122.389841</td>\n",
       "      <td>21</td>\n",
       "      <td>Montgomery St BART Station (Market St at 2nd St)</td>\n",
       "      <td>37.789625</td>\n",
       "      <td>-122.400811</td>\n",
       "      <td>326</td>\n",
       "      <td>Subscriber</td>\n",
       "      <td>1970.0</td>\n",
       "      <td>Male</td>\n",
       "      <td>No</td>\n",
       "    </tr>\n",
       "    <tr>\n",
       "      <th>106040</th>\n",
       "      <td>280</td>\n",
       "      <td>2018-02-01 08:25:10.5290</td>\n",
       "      <td>2018-02-01 08:29:51.3280</td>\n",
       "      <td>116</td>\n",
       "      <td>Mississippi St at 17th St</td>\n",
       "      <td>37.764802</td>\n",
       "      <td>-122.394771</td>\n",
       "      <td>101</td>\n",
       "      <td>San Bruno Ave at 16th St</td>\n",
       "      <td>37.766008</td>\n",
       "      <td>-122.405677</td>\n",
       "      <td>3418</td>\n",
       "      <td>Subscriber</td>\n",
       "      <td>1987.0</td>\n",
       "      <td>Male</td>\n",
       "      <td>No</td>\n",
       "    </tr>\n",
       "    <tr>\n",
       "      <th>23513</th>\n",
       "      <td>773</td>\n",
       "      <td>2018-02-22 07:49:42.6100</td>\n",
       "      <td>2018-02-22 08:02:36.3080</td>\n",
       "      <td>85</td>\n",
       "      <td>Church St at Duboce Ave</td>\n",
       "      <td>37.770083</td>\n",
       "      <td>-122.429156</td>\n",
       "      <td>89</td>\n",
       "      <td>Division St at Potrero Ave</td>\n",
       "      <td>37.769218</td>\n",
       "      <td>-122.407646</td>\n",
       "      <td>427</td>\n",
       "      <td>Subscriber</td>\n",
       "      <td>1985.0</td>\n",
       "      <td>Female</td>\n",
       "      <td>Yes</td>\n",
       "    </tr>\n",
       "    <tr>\n",
       "      <th>66059</th>\n",
       "      <td>1023</td>\n",
       "      <td>2018-02-10 14:02:32.1380</td>\n",
       "      <td>2018-02-10 14:19:35.6530</td>\n",
       "      <td>130</td>\n",
       "      <td>22nd St Caltrain Station</td>\n",
       "      <td>37.757369</td>\n",
       "      <td>-122.392057</td>\n",
       "      <td>109</td>\n",
       "      <td>17th St at Valencia St</td>\n",
       "      <td>37.763316</td>\n",
       "      <td>-122.421904</td>\n",
       "      <td>2331</td>\n",
       "      <td>Customer</td>\n",
       "      <td>1993.0</td>\n",
       "      <td>Female</td>\n",
       "      <td>No</td>\n",
       "    </tr>\n",
       "    <tr>\n",
       "      <th>87536</th>\n",
       "      <td>259</td>\n",
       "      <td>2018-02-06 07:08:22.5610</td>\n",
       "      <td>2018-02-06 07:12:42.3890</td>\n",
       "      <td>63</td>\n",
       "      <td>Bryant St at 6th St</td>\n",
       "      <td>37.775910</td>\n",
       "      <td>-122.402575</td>\n",
       "      <td>321</td>\n",
       "      <td>5th at Folsom</td>\n",
       "      <td>37.780146</td>\n",
       "      <td>-122.403071</td>\n",
       "      <td>3729</td>\n",
       "      <td>Subscriber</td>\n",
       "      <td>1986.0</td>\n",
       "      <td>Male</td>\n",
       "      <td>No</td>\n",
       "    </tr>\n",
       "    <tr>\n",
       "      <th>24149</th>\n",
       "      <td>313</td>\n",
       "      <td>2018-02-21 20:44:37.8090</td>\n",
       "      <td>2018-02-21 20:49:50.9050</td>\n",
       "      <td>84</td>\n",
       "      <td>Duboce Park</td>\n",
       "      <td>37.769201</td>\n",
       "      <td>-122.433812</td>\n",
       "      <td>107</td>\n",
       "      <td>17th St at Dolores St</td>\n",
       "      <td>37.763015</td>\n",
       "      <td>-122.426497</td>\n",
       "      <td>3186</td>\n",
       "      <td>Subscriber</td>\n",
       "      <td>1983.0</td>\n",
       "      <td>Male</td>\n",
       "      <td>No</td>\n",
       "    </tr>\n",
       "    <tr>\n",
       "      <th>44449</th>\n",
       "      <td>298</td>\n",
       "      <td>2018-02-15 17:36:33.9120</td>\n",
       "      <td>2018-02-15 17:41:32.1650</td>\n",
       "      <td>8</td>\n",
       "      <td>The Embarcadero at Vallejo St</td>\n",
       "      <td>37.799953</td>\n",
       "      <td>-122.398525</td>\n",
       "      <td>22</td>\n",
       "      <td>Howard St at Beale St</td>\n",
       "      <td>37.789756</td>\n",
       "      <td>-122.394643</td>\n",
       "      <td>320</td>\n",
       "      <td>Subscriber</td>\n",
       "      <td>1962.0</td>\n",
       "      <td>Male</td>\n",
       "      <td>No</td>\n",
       "    </tr>\n",
       "  </tbody>\n",
       "</table>\n",
       "</div>"
      ],
      "text/plain": [
       "        duration_sec                start_time                  end_time  \\\n",
       "80639           1274  2018-02-07 10:52:36.5200  2018-02-07 11:13:51.4920   \n",
       "73354            658  2018-02-08 18:17:14.7310  2018-02-08 18:28:13.3810   \n",
       "11439            839  2018-02-26 09:07:52.9460  2018-02-26 09:21:52.2100   \n",
       "24857            446  2018-02-21 18:07:00.1670  2018-02-21 18:14:26.3700   \n",
       "106040           280  2018-02-01 08:25:10.5290  2018-02-01 08:29:51.3280   \n",
       "23513            773  2018-02-22 07:49:42.6100  2018-02-22 08:02:36.3080   \n",
       "66059           1023  2018-02-10 14:02:32.1380  2018-02-10 14:19:35.6530   \n",
       "87536            259  2018-02-06 07:08:22.5610  2018-02-06 07:12:42.3890   \n",
       "24149            313  2018-02-21 20:44:37.8090  2018-02-21 20:49:50.9050   \n",
       "44449            298  2018-02-15 17:36:33.9120  2018-02-15 17:41:32.1650   \n",
       "\n",
       "        start_station_id                                 start_station_name  \\\n",
       "80639                110   17th & Folsom Street Park (17th St at Folsom St)   \n",
       "73354                 33                         Golden Gate Ave at Hyde St   \n",
       "11439                 30     San Francisco Caltrain (Townsend St at 4th St)   \n",
       "24857                342  Colin P Kelly Jr St at Townsend St (Temporary ...   \n",
       "106040               116                          Mississippi St at 17th St   \n",
       "23513                 85                            Church St at Duboce Ave   \n",
       "66059                130                           22nd St Caltrain Station   \n",
       "87536                 63                                Bryant St at 6th St   \n",
       "24149                 84                                        Duboce Park   \n",
       "44449                  8                      The Embarcadero at Vallejo St   \n",
       "\n",
       "        start_station_latitude  start_station_longitude  end_station_id  \\\n",
       "80639                37.763708              -122.415204              37   \n",
       "73354                37.781650              -122.415408              30   \n",
       "11439                37.776598              -122.395282              22   \n",
       "24857                37.781383              -122.389841              21   \n",
       "106040               37.764802              -122.394771             101   \n",
       "23513                37.770083              -122.429156              89   \n",
       "66059                37.757369              -122.392057             109   \n",
       "87536                37.775910              -122.402575             321   \n",
       "24149                37.769201              -122.433812             107   \n",
       "44449                37.799953              -122.398525              22   \n",
       "\n",
       "                                        end_station_name  \\\n",
       "80639                                2nd St at Folsom St   \n",
       "73354     San Francisco Caltrain (Townsend St at 4th St)   \n",
       "11439                              Howard St at Beale St   \n",
       "24857   Montgomery St BART Station (Market St at 2nd St)   \n",
       "106040                          San Bruno Ave at 16th St   \n",
       "23513                         Division St at Potrero Ave   \n",
       "66059                             17th St at Valencia St   \n",
       "87536                                      5th at Folsom   \n",
       "24149                              17th St at Dolores St   \n",
       "44449                              Howard St at Beale St   \n",
       "\n",
       "        end_station_latitude  end_station_longitude  bike_id   user_type  \\\n",
       "80639              37.785000            -122.395936     1110  Subscriber   \n",
       "73354              37.776598            -122.395282     1226  Subscriber   \n",
       "11439              37.789756            -122.394643     2786  Subscriber   \n",
       "24857              37.789625            -122.400811      326  Subscriber   \n",
       "106040             37.766008            -122.405677     3418  Subscriber   \n",
       "23513              37.769218            -122.407646      427  Subscriber   \n",
       "66059              37.763316            -122.421904     2331    Customer   \n",
       "87536              37.780146            -122.403071     3729  Subscriber   \n",
       "24149              37.763015            -122.426497     3186  Subscriber   \n",
       "44449              37.789756            -122.394643      320  Subscriber   \n",
       "\n",
       "        member_birth_year member_gender bike_share_for_all_trip  \n",
       "80639              1949.0          Male                      No  \n",
       "73354              1986.0          Male                      No  \n",
       "11439              1989.0          Male                      No  \n",
       "24857              1970.0          Male                      No  \n",
       "106040             1987.0          Male                      No  \n",
       "23513              1985.0        Female                     Yes  \n",
       "66059              1993.0        Female                      No  \n",
       "87536              1986.0          Male                      No  \n",
       "24149              1983.0          Male                      No  \n",
       "44449              1962.0          Male                      No  "
      ]
     },
     "execution_count": 6,
     "metadata": {},
     "output_type": "execute_result"
    }
   ],
   "source": [
    "df.sample (10)"
   ]
  },
  {
   "cell_type": "markdown",
   "metadata": {
    "slideshow": {
     "slide_type": "slide"
    }
   },
   "source": [
    "Detect 1: start_time and end_time is not in datetime data type."
   ]
  },
  {
   "cell_type": "markdown",
   "metadata": {
    "slideshow": {
     "slide_type": "slide"
    }
   },
   "source": [
    "Detect 2: Ids are ideal to be in integer datatype not float. Therefore Start_station_id, end_station_id, member_birth_year, bike_id need to change the data type."
   ]
  },
  {
   "cell_type": "markdown",
   "metadata": {
    "slideshow": {
     "slide_type": "slide"
    }
   },
   "source": [
    "Detect 3: user_type, member_gender, bike_share_for_all_trip should be in category and bool data type."
   ]
  },
  {
   "cell_type": "markdown",
   "metadata": {
    "slideshow": {
     "slide_type": "slide"
    }
   },
   "source": [
    "Detect 4: Make another column for member's age for better undestanding for the viewers."
   ]
  },
  {
   "cell_type": "code",
   "execution_count": 7,
   "metadata": {
    "slideshow": {
     "slide_type": "skip"
    }
   },
   "outputs": [
    {
     "data": {
      "text/plain": [
       "duration_sec                  0\n",
       "start_time                    0\n",
       "end_time                      0\n",
       "start_station_id              0\n",
       "start_station_name            0\n",
       "start_station_latitude        0\n",
       "start_station_longitude       0\n",
       "end_station_id                0\n",
       "end_station_name              0\n",
       "end_station_latitude          0\n",
       "end_station_longitude         0\n",
       "bike_id                       0\n",
       "user_type                     0\n",
       "member_birth_year          8092\n",
       "member_gender              8056\n",
       "bike_share_for_all_trip       0\n",
       "dtype: int64"
      ]
     },
     "execution_count": 7,
     "metadata": {},
     "output_type": "execute_result"
    }
   ],
   "source": [
    "df.isnull().sum()"
   ]
  },
  {
   "cell_type": "markdown",
   "metadata": {
    "slideshow": {
     "slide_type": "slide"
    }
   },
   "source": [
    "Detect 5: Null values detected under member_birth_year and member_gender. Drop the rows with null values"
   ]
  },
  {
   "cell_type": "code",
   "execution_count": 8,
   "metadata": {
    "slideshow": {
     "slide_type": "skip"
    }
   },
   "outputs": [
    {
     "data": {
      "text/html": [
       "<div>\n",
       "<style scoped>\n",
       "    .dataframe tbody tr th:only-of-type {\n",
       "        vertical-align: middle;\n",
       "    }\n",
       "\n",
       "    .dataframe tbody tr th {\n",
       "        vertical-align: top;\n",
       "    }\n",
       "\n",
       "    .dataframe thead th {\n",
       "        text-align: right;\n",
       "    }\n",
       "</style>\n",
       "<table border=\"1\" class=\"dataframe\">\n",
       "  <thead>\n",
       "    <tr style=\"text-align: right;\">\n",
       "      <th></th>\n",
       "      <th>duration_sec</th>\n",
       "      <th>start_station_id</th>\n",
       "      <th>start_station_latitude</th>\n",
       "      <th>start_station_longitude</th>\n",
       "      <th>end_station_id</th>\n",
       "      <th>end_station_latitude</th>\n",
       "      <th>end_station_longitude</th>\n",
       "      <th>bike_id</th>\n",
       "      <th>member_birth_year</th>\n",
       "    </tr>\n",
       "  </thead>\n",
       "  <tbody>\n",
       "    <tr>\n",
       "      <th>count</th>\n",
       "      <td>106718.000000</td>\n",
       "      <td>106718.000000</td>\n",
       "      <td>106718.000000</td>\n",
       "      <td>106718.000000</td>\n",
       "      <td>106718.000000</td>\n",
       "      <td>106718.000000</td>\n",
       "      <td>106718.000000</td>\n",
       "      <td>106718.000000</td>\n",
       "      <td>98626.000000</td>\n",
       "    </tr>\n",
       "    <tr>\n",
       "      <th>mean</th>\n",
       "      <td>878.661913</td>\n",
       "      <td>111.781836</td>\n",
       "      <td>37.766993</td>\n",
       "      <td>-122.351936</td>\n",
       "      <td>109.508968</td>\n",
       "      <td>37.767166</td>\n",
       "      <td>-122.351129</td>\n",
       "      <td>2017.746350</td>\n",
       "      <td>1981.550707</td>\n",
       "    </tr>\n",
       "    <tr>\n",
       "      <th>std</th>\n",
       "      <td>2665.964460</td>\n",
       "      <td>93.857360</td>\n",
       "      <td>0.102873</td>\n",
       "      <td>0.121185</td>\n",
       "      <td>93.598881</td>\n",
       "      <td>0.102712</td>\n",
       "      <td>0.120472</td>\n",
       "      <td>1092.680093</td>\n",
       "      <td>10.877748</td>\n",
       "    </tr>\n",
       "    <tr>\n",
       "      <th>min</th>\n",
       "      <td>61.000000</td>\n",
       "      <td>3.000000</td>\n",
       "      <td>37.317298</td>\n",
       "      <td>-122.444293</td>\n",
       "      <td>3.000000</td>\n",
       "      <td>37.317298</td>\n",
       "      <td>-122.444293</td>\n",
       "      <td>11.000000</td>\n",
       "      <td>1900.000000</td>\n",
       "    </tr>\n",
       "    <tr>\n",
       "      <th>25%</th>\n",
       "      <td>355.000000</td>\n",
       "      <td>30.000000</td>\n",
       "      <td>37.771058</td>\n",
       "      <td>-122.411738</td>\n",
       "      <td>30.000000</td>\n",
       "      <td>37.771662</td>\n",
       "      <td>-122.410662</td>\n",
       "      <td>1100.000000</td>\n",
       "      <td>1976.000000</td>\n",
       "    </tr>\n",
       "    <tr>\n",
       "      <th>50%</th>\n",
       "      <td>555.000000</td>\n",
       "      <td>81.000000</td>\n",
       "      <td>37.781383</td>\n",
       "      <td>-122.397405</td>\n",
       "      <td>81.000000</td>\n",
       "      <td>37.781383</td>\n",
       "      <td>-122.397380</td>\n",
       "      <td>2112.000000</td>\n",
       "      <td>1984.000000</td>\n",
       "    </tr>\n",
       "    <tr>\n",
       "      <th>75%</th>\n",
       "      <td>862.000000</td>\n",
       "      <td>176.000000</td>\n",
       "      <td>37.795393</td>\n",
       "      <td>-122.291376</td>\n",
       "      <td>176.000000</td>\n",
       "      <td>37.795812</td>\n",
       "      <td>-122.291415</td>\n",
       "      <td>2985.000000</td>\n",
       "      <td>1989.000000</td>\n",
       "    </tr>\n",
       "    <tr>\n",
       "      <th>max</th>\n",
       "      <td>86366.000000</td>\n",
       "      <td>342.000000</td>\n",
       "      <td>37.880222</td>\n",
       "      <td>-121.874119</td>\n",
       "      <td>342.000000</td>\n",
       "      <td>37.880222</td>\n",
       "      <td>-121.874119</td>\n",
       "      <td>3747.000000</td>\n",
       "      <td>2000.000000</td>\n",
       "    </tr>\n",
       "  </tbody>\n",
       "</table>\n",
       "</div>"
      ],
      "text/plain": [
       "        duration_sec  start_station_id  start_station_latitude  \\\n",
       "count  106718.000000     106718.000000           106718.000000   \n",
       "mean      878.661913        111.781836               37.766993   \n",
       "std      2665.964460         93.857360                0.102873   \n",
       "min        61.000000          3.000000               37.317298   \n",
       "25%       355.000000         30.000000               37.771058   \n",
       "50%       555.000000         81.000000               37.781383   \n",
       "75%       862.000000        176.000000               37.795393   \n",
       "max     86366.000000        342.000000               37.880222   \n",
       "\n",
       "       start_station_longitude  end_station_id  end_station_latitude  \\\n",
       "count            106718.000000   106718.000000         106718.000000   \n",
       "mean               -122.351936      109.508968             37.767166   \n",
       "std                   0.121185       93.598881              0.102712   \n",
       "min                -122.444293        3.000000             37.317298   \n",
       "25%                -122.411738       30.000000             37.771662   \n",
       "50%                -122.397405       81.000000             37.781383   \n",
       "75%                -122.291376      176.000000             37.795812   \n",
       "max                -121.874119      342.000000             37.880222   \n",
       "\n",
       "       end_station_longitude        bike_id  member_birth_year  \n",
       "count          106718.000000  106718.000000       98626.000000  \n",
       "mean             -122.351129    2017.746350        1981.550707  \n",
       "std                 0.120472    1092.680093          10.877748  \n",
       "min              -122.444293      11.000000        1900.000000  \n",
       "25%              -122.410662    1100.000000        1976.000000  \n",
       "50%              -122.397380    2112.000000        1984.000000  \n",
       "75%              -122.291415    2985.000000        1989.000000  \n",
       "max              -121.874119    3747.000000        2000.000000  "
      ]
     },
     "execution_count": 8,
     "metadata": {},
     "output_type": "execute_result"
    }
   ],
   "source": [
    "df.describe()"
   ]
  },
  {
   "cell_type": "code",
   "execution_count": 9,
   "metadata": {
    "slideshow": {
     "slide_type": "skip"
    }
   },
   "outputs": [
    {
     "data": {
      "text/plain": [
       "count    106718.000000\n",
       "mean        878.661913\n",
       "std        2665.964460\n",
       "min          61.000000\n",
       "25%         355.000000\n",
       "50%         555.000000\n",
       "75%         862.000000\n",
       "max       86366.000000\n",
       "Name: duration_sec, dtype: float64"
      ]
     },
     "execution_count": 9,
     "metadata": {},
     "output_type": "execute_result"
    }
   ],
   "source": [
    "df.duration_sec.describe()"
   ]
  },
  {
   "cell_type": "markdown",
   "metadata": {
    "slideshow": {
     "slide_type": "slide"
    }
   },
   "source": [
    "Detect 6: Expected to have large amount of outliers in duration_sec."
   ]
  },
  {
   "cell_type": "markdown",
   "metadata": {
    "slideshow": {
     "slide_type": "slide"
    }
   },
   "source": [
    "Detect 7: The column was so limited, so I need to extract name of the month and name of the week columns from start_time for deeper investigation."
   ]
  },
  {
   "cell_type": "markdown",
   "metadata": {
    "slideshow": {
     "slide_type": "slide"
    }
   },
   "source": [
    "### Cleaning"
   ]
  },
  {
   "cell_type": "markdown",
   "metadata": {
    "slideshow": {
     "slide_type": "slide"
    }
   },
   "source": [
    "1. Change start_time and end_time data type to datetime"
   ]
  },
  {
   "cell_type": "code",
   "execution_count": 10,
   "metadata": {
    "slideshow": {
     "slide_type": "skip"
    }
   },
   "outputs": [],
   "source": [
    "df['start_time'] = pd.to_datetime(df['start_time'])\n",
    "df['end_time'] = pd.to_datetime(df['end_time'])"
   ]
  },
  {
   "cell_type": "markdown",
   "metadata": {
    "slideshow": {
     "slide_type": "slide"
    }
   },
   "source": [
    "2. user_type and bike_share_for_all_trip should be in category and bool data type."
   ]
  },
  {
   "cell_type": "code",
   "execution_count": 11,
   "metadata": {
    "slideshow": {
     "slide_type": "skip"
    }
   },
   "outputs": [],
   "source": [
    "df['user_type'] = df['user_type'].astype('category')\n",
    "df['member_gender'] = df['member_gender'].astype('category')\n",
    "df['bike_share_for_all_trip'] = df['bike_share_for_all_trip'].astype('category')"
   ]
  },
  {
   "cell_type": "code",
   "execution_count": 12,
   "metadata": {
    "slideshow": {
     "slide_type": "skip"
    }
   },
   "outputs": [
    {
     "name": "stdout",
     "output_type": "stream",
     "text": [
      "<class 'pandas.core.frame.DataFrame'>\n",
      "RangeIndex: 106718 entries, 0 to 106717\n",
      "Data columns (total 16 columns):\n",
      " #   Column                   Non-Null Count   Dtype         \n",
      "---  ------                   --------------   -----         \n",
      " 0   duration_sec             106718 non-null  int64         \n",
      " 1   start_time               106718 non-null  datetime64[ns]\n",
      " 2   end_time                 106718 non-null  datetime64[ns]\n",
      " 3   start_station_id         106718 non-null  int64         \n",
      " 4   start_station_name       106718 non-null  object        \n",
      " 5   start_station_latitude   106718 non-null  float64       \n",
      " 6   start_station_longitude  106718 non-null  float64       \n",
      " 7   end_station_id           106718 non-null  int64         \n",
      " 8   end_station_name         106718 non-null  object        \n",
      " 9   end_station_latitude     106718 non-null  float64       \n",
      " 10  end_station_longitude    106718 non-null  float64       \n",
      " 11  bike_id                  106718 non-null  int64         \n",
      " 12  user_type                106718 non-null  category      \n",
      " 13  member_birth_year        98626 non-null   float64       \n",
      " 14  member_gender            98662 non-null   category      \n",
      " 15  bike_share_for_all_trip  106718 non-null  category      \n",
      "dtypes: category(3), datetime64[ns](2), float64(5), int64(4), object(2)\n",
      "memory usage: 10.9+ MB\n"
     ]
    }
   ],
   "source": [
    "df.info()"
   ]
  },
  {
   "cell_type": "markdown",
   "metadata": {
    "slideshow": {
     "slide_type": "slide"
    }
   },
   "source": [
    "3. Drop the rows with null values under member_birth_year and member_gender."
   ]
  },
  {
   "cell_type": "code",
   "execution_count": 13,
   "metadata": {
    "slideshow": {
     "slide_type": "skip"
    }
   },
   "outputs": [],
   "source": [
    "df = df.dropna(how='any',axis=0) "
   ]
  },
  {
   "cell_type": "code",
   "execution_count": 14,
   "metadata": {
    "slideshow": {
     "slide_type": "skip"
    }
   },
   "outputs": [
    {
     "data": {
      "text/plain": [
       "duration_sec               0\n",
       "start_time                 0\n",
       "end_time                   0\n",
       "start_station_id           0\n",
       "start_station_name         0\n",
       "start_station_latitude     0\n",
       "start_station_longitude    0\n",
       "end_station_id             0\n",
       "end_station_name           0\n",
       "end_station_latitude       0\n",
       "end_station_longitude      0\n",
       "bike_id                    0\n",
       "user_type                  0\n",
       "member_birth_year          0\n",
       "member_gender              0\n",
       "bike_share_for_all_trip    0\n",
       "dtype: int64"
      ]
     },
     "execution_count": 14,
     "metadata": {},
     "output_type": "execute_result"
    }
   ],
   "source": [
    "df.isnull().sum()"
   ]
  },
  {
   "cell_type": "code",
   "execution_count": 15,
   "metadata": {
    "slideshow": {
     "slide_type": "skip"
    }
   },
   "outputs": [
    {
     "data": {
      "text/plain": [
       "(98626, 16)"
      ]
     },
     "execution_count": 15,
     "metadata": {},
     "output_type": "execute_result"
    }
   ],
   "source": [
    "df.shape"
   ]
  },
  {
   "cell_type": "markdown",
   "metadata": {
    "slideshow": {
     "slide_type": "slide"
    }
   },
   "source": [
    "4. Make another column for member's age for better undestanding for the viewers."
   ]
  },
  {
   "cell_type": "code",
   "execution_count": 16,
   "metadata": {
    "slideshow": {
     "slide_type": "skip"
    }
   },
   "outputs": [],
   "source": [
    "# Refered from https://github.com/saiogirala/Ford_Bike_Communicating_Findings/blob/master/Exploratory_Data_Analysis.ipynb\n",
    "df['member_age'] = 2020-df['member_birth_year']"
   ]
  },
  {
   "cell_type": "code",
   "execution_count": 17,
   "metadata": {
    "slideshow": {
     "slide_type": "skip"
    }
   },
   "outputs": [
    {
     "name": "stdout",
     "output_type": "stream",
     "text": [
      "<class 'pandas.core.frame.DataFrame'>\n",
      "Int64Index: 98626 entries, 0 to 106717\n",
      "Data columns (total 17 columns):\n",
      " #   Column                   Non-Null Count  Dtype         \n",
      "---  ------                   --------------  -----         \n",
      " 0   duration_sec             98626 non-null  int64         \n",
      " 1   start_time               98626 non-null  datetime64[ns]\n",
      " 2   end_time                 98626 non-null  datetime64[ns]\n",
      " 3   start_station_id         98626 non-null  int64         \n",
      " 4   start_station_name       98626 non-null  object        \n",
      " 5   start_station_latitude   98626 non-null  float64       \n",
      " 6   start_station_longitude  98626 non-null  float64       \n",
      " 7   end_station_id           98626 non-null  int64         \n",
      " 8   end_station_name         98626 non-null  object        \n",
      " 9   end_station_latitude     98626 non-null  float64       \n",
      " 10  end_station_longitude    98626 non-null  float64       \n",
      " 11  bike_id                  98626 non-null  int64         \n",
      " 12  user_type                98626 non-null  category      \n",
      " 13  member_birth_year        98626 non-null  float64       \n",
      " 14  member_gender            98626 non-null  category      \n",
      " 15  bike_share_for_all_trip  98626 non-null  category      \n",
      " 16  member_age               98626 non-null  float64       \n",
      "dtypes: category(3), datetime64[ns](2), float64(6), int64(4), object(2)\n",
      "memory usage: 11.6+ MB\n"
     ]
    }
   ],
   "source": [
    "df.info()"
   ]
  },
  {
   "cell_type": "markdown",
   "metadata": {
    "slideshow": {
     "slide_type": "slide"
    }
   },
   "source": [
    "5. Change data type for Start_station_id, end_station_id, member_birth_year, bike_id to int."
   ]
  },
  {
   "cell_type": "code",
   "execution_count": 18,
   "metadata": {
    "scrolled": true,
    "slideshow": {
     "slide_type": "skip"
    }
   },
   "outputs": [],
   "source": [
    "df['start_station_id'] = df['start_station_id'].astype('int')\n",
    "df['end_station_id'] = df['end_station_id'].astype('int')\n",
    "df['member_birth_year'] = df['member_birth_year'].astype('int')\n",
    "df['member_age'] = df['member_age'].astype('int')\n",
    "df['bike_id'] = pd.to_numeric(df['bike_id'])"
   ]
  },
  {
   "cell_type": "code",
   "execution_count": 19,
   "metadata": {
    "slideshow": {
     "slide_type": "skip"
    }
   },
   "outputs": [
    {
     "name": "stdout",
     "output_type": "stream",
     "text": [
      "<class 'pandas.core.frame.DataFrame'>\n",
      "Int64Index: 98626 entries, 0 to 106717\n",
      "Data columns (total 17 columns):\n",
      " #   Column                   Non-Null Count  Dtype         \n",
      "---  ------                   --------------  -----         \n",
      " 0   duration_sec             98626 non-null  int64         \n",
      " 1   start_time               98626 non-null  datetime64[ns]\n",
      " 2   end_time                 98626 non-null  datetime64[ns]\n",
      " 3   start_station_id         98626 non-null  int64         \n",
      " 4   start_station_name       98626 non-null  object        \n",
      " 5   start_station_latitude   98626 non-null  float64       \n",
      " 6   start_station_longitude  98626 non-null  float64       \n",
      " 7   end_station_id           98626 non-null  int64         \n",
      " 8   end_station_name         98626 non-null  object        \n",
      " 9   end_station_latitude     98626 non-null  float64       \n",
      " 10  end_station_longitude    98626 non-null  float64       \n",
      " 11  bike_id                  98626 non-null  int64         \n",
      " 12  user_type                98626 non-null  category      \n",
      " 13  member_birth_year        98626 non-null  int64         \n",
      " 14  member_gender            98626 non-null  category      \n",
      " 15  bike_share_for_all_trip  98626 non-null  category      \n",
      " 16  member_age               98626 non-null  int64         \n",
      "dtypes: category(3), datetime64[ns](2), float64(4), int64(6), object(2)\n",
      "memory usage: 11.6+ MB\n"
     ]
    }
   ],
   "source": [
    "df.info()"
   ]
  },
  {
   "cell_type": "markdown",
   "metadata": {
    "slideshow": {
     "slide_type": "slide"
    }
   },
   "source": [
    "6. Large amount of outlier detected in duration_sec"
   ]
  },
  {
   "cell_type": "code",
   "execution_count": 20,
   "metadata": {
    "slideshow": {
     "slide_type": "skip"
    }
   },
   "outputs": [
    {
     "data": {
      "image/png": "[encoded data removed]",
      "text/plain": [
       "<Figure size 1440x144 with 1 Axes>"
      ]
     },
     "metadata": {
      "needs_background": "light"
     },
     "output_type": "display_data"
    }
   ],
   "source": [
    "plt.figure(figsize = [20, 2])\n",
    "sb.boxplot(data=df, x='duration_sec');"
   ]
  },
  {
   "cell_type": "code",
   "execution_count": 21,
   "metadata": {
    "slideshow": {
     "slide_type": "skip"
    }
   },
   "outputs": [],
   "source": [
    "df = df.query('duration_sec <= 2000')"
   ]
  },
  {
   "cell_type": "code",
   "execution_count": 22,
   "metadata": {
    "slideshow": {
     "slide_type": "skip"
    }
   },
   "outputs": [
    {
     "data": {
      "image/png": "[encoded data removed]",
      "text/plain": [
       "<Figure size 1440x144 with 1 Axes>"
      ]
     },
     "metadata": {
      "needs_background": "light"
     },
     "output_type": "display_data"
    }
   ],
   "source": [
    "plt.figure(figsize = [20, 2])\n",
    "sb.boxplot(data=df, x='duration_sec');"
   ]
  },
  {
   "cell_type": "markdown",
   "metadata": {
    "slideshow": {
     "slide_type": "slide"
    }
   },
   "source": [
    "7. Extract name of the Month and name of the week from start_time."
   ]
  },
  {
   "cell_type": "code",
   "execution_count": 23,
   "metadata": {
    "slideshow": {
     "slide_type": "skip"
    }
   },
   "outputs": [
    {
     "ename": "SyntaxError",
     "evalue": "invalid syntax (<ipython-input-23-96025a7becb0>, line 1)",
     "output_type": "error",
     "traceback": [
      "\u001b[0;36m  File \u001b[0;32m\"<ipython-input-23-96025a7becb0>\"\u001b[0;36m, line \u001b[0;32m1\u001b[0m\n\u001b[0;31m    eun kimdf['st_month_name']=df['start_time'].dt.strftime('%B')\u001b[0m\n\u001b[0m            ^\u001b[0m\n\u001b[0;31mSyntaxError\u001b[0m\u001b[0;31m:\u001b[0m invalid syntax\n"
     ]
    }
   ],
   "source": [
    "eun kimdf['st_month_name']=df['start_time'].dt.strftime('%B')"
   ]
  },
  {
   "cell_type": "code",
   "execution_count": 24,
   "metadata": {
    "slideshow": {
     "slide_type": "skip"
    }
   },
   "outputs": [],
   "source": [
    "df['st_week_name']=df['start_time'].dt.strftime('%a')"
   ]
  },
  {
   "cell_type": "code",
   "execution_count": 25,
   "metadata": {
    "slideshow": {
     "slide_type": "skip"
    }
   },
   "outputs": [
    {
     "name": "stdout",
     "output_type": "stream",
     "text": [
      "<class 'pandas.core.frame.DataFrame'>\n",
      "Int64Index: 96377 entries, 0 to 106717\n",
      "Data columns (total 18 columns):\n",
      " #   Column                   Non-Null Count  Dtype         \n",
      "---  ------                   --------------  -----         \n",
      " 0   duration_sec             96377 non-null  int64         \n",
      " 1   start_time               96377 non-null  datetime64[ns]\n",
      " 2   end_time                 96377 non-null  datetime64[ns]\n",
      " 3   start_station_id         96377 non-null  int64         \n",
      " 4   start_station_name       96377 non-null  object        \n",
      " 5   start_station_latitude   96377 non-null  float64       \n",
      " 6   start_station_longitude  96377 non-null  float64       \n",
      " 7   end_station_id           96377 non-null  int64         \n",
      " 8   end_station_name         96377 non-null  object        \n",
      " 9   end_station_latitude     96377 non-null  float64       \n",
      " 10  end_station_longitude    96377 non-null  float64       \n",
      " 11  bike_id                  96377 non-null  int64         \n",
      " 12  user_type                96377 non-null  category      \n",
      " 13  member_birth_year        96377 non-null  int64         \n",
      " 14  member_gender            96377 non-null  category      \n",
      " 15  bike_share_for_all_trip  96377 non-null  category      \n",
      " 16  member_age               96377 non-null  int64         \n",
      " 17  st_week_name             96377 non-null  object        \n",
      "dtypes: category(3), datetime64[ns](2), float64(4), int64(6), object(3)\n",
      "memory usage: 12.0+ MB\n"
     ]
    }
   ],
   "source": [
    "df.info()"
   ]
  },
  {
   "cell_type": "code",
   "execution_count": 26,
   "metadata": {
    "slideshow": {
     "slide_type": "skip"
    }
   },
   "outputs": [
    {
     "data": {
      "text/html": [
       "<div>\n",
       "<style scoped>\n",
       "    .dataframe tbody tr th:only-of-type {\n",
       "        vertical-align: middle;\n",
       "    }\n",
       "\n",
       "    .dataframe tbody tr th {\n",
       "        vertical-align: top;\n",
       "    }\n",
       "\n",
       "    .dataframe thead th {\n",
       "        text-align: right;\n",
       "    }\n",
       "</style>\n",
       "<table border=\"1\" class=\"dataframe\">\n",
       "  <thead>\n",
       "    <tr style=\"text-align: right;\">\n",
       "      <th></th>\n",
       "      <th>duration_sec</th>\n",
       "      <th>start_time</th>\n",
       "      <th>end_time</th>\n",
       "      <th>start_station_id</th>\n",
       "      <th>start_station_name</th>\n",
       "      <th>start_station_latitude</th>\n",
       "      <th>start_station_longitude</th>\n",
       "      <th>end_station_id</th>\n",
       "      <th>end_station_name</th>\n",
       "      <th>end_station_latitude</th>\n",
       "      <th>end_station_longitude</th>\n",
       "      <th>bike_id</th>\n",
       "      <th>user_type</th>\n",
       "      <th>member_birth_year</th>\n",
       "      <th>member_gender</th>\n",
       "      <th>bike_share_for_all_trip</th>\n",
       "      <th>member_age</th>\n",
       "      <th>st_week_name</th>\n",
       "    </tr>\n",
       "  </thead>\n",
       "  <tbody>\n",
       "    <tr>\n",
       "      <th>0</th>\n",
       "      <td>598</td>\n",
       "      <td>2018-02-28 23:59:47.097</td>\n",
       "      <td>2018-03-01 00:09:45.187</td>\n",
       "      <td>284</td>\n",
       "      <td>Yerba Buena Center for the Arts (Howard St at ...</td>\n",
       "      <td>37.784872</td>\n",
       "      <td>-122.400876</td>\n",
       "      <td>114</td>\n",
       "      <td>Rhode Island St at 17th St</td>\n",
       "      <td>37.764478</td>\n",
       "      <td>-122.402570</td>\n",
       "      <td>1035</td>\n",
       "      <td>Subscriber</td>\n",
       "      <td>1988</td>\n",
       "      <td>Male</td>\n",
       "      <td>No</td>\n",
       "      <td>32</td>\n",
       "      <td>Wed</td>\n",
       "    </tr>\n",
       "    <tr>\n",
       "      <th>1</th>\n",
       "      <td>943</td>\n",
       "      <td>2018-02-28 23:21:16.495</td>\n",
       "      <td>2018-02-28 23:36:59.974</td>\n",
       "      <td>6</td>\n",
       "      <td>The Embarcadero at Sansome St</td>\n",
       "      <td>37.804770</td>\n",
       "      <td>-122.403234</td>\n",
       "      <td>324</td>\n",
       "      <td>Union Square (Powell St at Post St)</td>\n",
       "      <td>37.788300</td>\n",
       "      <td>-122.408531</td>\n",
       "      <td>1673</td>\n",
       "      <td>Customer</td>\n",
       "      <td>1987</td>\n",
       "      <td>Male</td>\n",
       "      <td>No</td>\n",
       "      <td>33</td>\n",
       "      <td>Wed</td>\n",
       "    </tr>\n",
       "    <tr>\n",
       "      <th>4</th>\n",
       "      <td>885</td>\n",
       "      <td>2018-02-28 23:15:12.858</td>\n",
       "      <td>2018-02-28 23:29:58.608</td>\n",
       "      <td>308</td>\n",
       "      <td>San Pedro Square</td>\n",
       "      <td>37.336802</td>\n",
       "      <td>-121.894090</td>\n",
       "      <td>297</td>\n",
       "      <td>Locust St at Grant St</td>\n",
       "      <td>37.322980</td>\n",
       "      <td>-121.887931</td>\n",
       "      <td>1839</td>\n",
       "      <td>Subscriber</td>\n",
       "      <td>1976</td>\n",
       "      <td>Female</td>\n",
       "      <td>Yes</td>\n",
       "      <td>44</td>\n",
       "      <td>Wed</td>\n",
       "    </tr>\n",
       "  </tbody>\n",
       "</table>\n",
       "</div>"
      ],
      "text/plain": [
       "   duration_sec              start_time                end_time  \\\n",
       "0           598 2018-02-28 23:59:47.097 2018-03-01 00:09:45.187   \n",
       "1           943 2018-02-28 23:21:16.495 2018-02-28 23:36:59.974   \n",
       "4           885 2018-02-28 23:15:12.858 2018-02-28 23:29:58.608   \n",
       "\n",
       "   start_station_id                                 start_station_name  \\\n",
       "0               284  Yerba Buena Center for the Arts (Howard St at ...   \n",
       "1                 6                      The Embarcadero at Sansome St   \n",
       "4               308                                   San Pedro Square   \n",
       "\n",
       "   start_station_latitude  start_station_longitude  end_station_id  \\\n",
       "0               37.784872              -122.400876             114   \n",
       "1               37.804770              -122.403234             324   \n",
       "4               37.336802              -121.894090             297   \n",
       "\n",
       "                      end_station_name  end_station_latitude  \\\n",
       "0           Rhode Island St at 17th St             37.764478   \n",
       "1  Union Square (Powell St at Post St)             37.788300   \n",
       "4                Locust St at Grant St             37.322980   \n",
       "\n",
       "   end_station_longitude  bike_id   user_type  member_birth_year  \\\n",
       "0            -122.402570     1035  Subscriber               1988   \n",
       "1            -122.408531     1673    Customer               1987   \n",
       "4            -121.887931     1839  Subscriber               1976   \n",
       "\n",
       "  member_gender bike_share_for_all_trip  member_age st_week_name  \n",
       "0          Male                      No          32          Wed  \n",
       "1          Male                      No          33          Wed  \n",
       "4        Female                     Yes          44          Wed  "
      ]
     },
     "execution_count": 26,
     "metadata": {},
     "output_type": "execute_result"
    }
   ],
   "source": [
    "df.head(3)"
   ]
  },
  {
   "cell_type": "markdown",
   "metadata": {
    "slideshow": {
     "slide_type": "slide"
    }
   },
   "source": [
    "8. Change duration_sec to duration_min to observe better."
   ]
  },
  {
   "cell_type": "code",
   "execution_count": 27,
   "metadata": {
    "slideshow": {
     "slide_type": "skip"
    }
   },
   "outputs": [],
   "source": [
    "df['duration_min'] = df['duration_sec']/60"
   ]
  },
  {
   "cell_type": "code",
   "execution_count": 28,
   "metadata": {
    "slideshow": {
     "slide_type": "skip"
    }
   },
   "outputs": [
    {
     "data": {
      "text/html": [
       "<div>\n",
       "<style scoped>\n",
       "    .dataframe tbody tr th:only-of-type {\n",
       "        vertical-align: middle;\n",
       "    }\n",
       "\n",
       "    .dataframe tbody tr th {\n",
       "        vertical-align: top;\n",
       "    }\n",
       "\n",
       "    .dataframe thead th {\n",
       "        text-align: right;\n",
       "    }\n",
       "</style>\n",
       "<table border=\"1\" class=\"dataframe\">\n",
       "  <thead>\n",
       "    <tr style=\"text-align: right;\">\n",
       "      <th></th>\n",
       "      <th>duration_sec</th>\n",
       "      <th>start_time</th>\n",
       "      <th>end_time</th>\n",
       "      <th>start_station_id</th>\n",
       "      <th>start_station_name</th>\n",
       "      <th>start_station_latitude</th>\n",
       "      <th>start_station_longitude</th>\n",
       "      <th>end_station_id</th>\n",
       "      <th>end_station_name</th>\n",
       "      <th>end_station_latitude</th>\n",
       "      <th>end_station_longitude</th>\n",
       "      <th>bike_id</th>\n",
       "      <th>user_type</th>\n",
       "      <th>member_birth_year</th>\n",
       "      <th>member_gender</th>\n",
       "      <th>bike_share_for_all_trip</th>\n",
       "      <th>member_age</th>\n",
       "      <th>st_week_name</th>\n",
       "      <th>duration_min</th>\n",
       "    </tr>\n",
       "  </thead>\n",
       "  <tbody>\n",
       "    <tr>\n",
       "      <th>0</th>\n",
       "      <td>598</td>\n",
       "      <td>2018-02-28 23:59:47.097</td>\n",
       "      <td>2018-03-01 00:09:45.187</td>\n",
       "      <td>284</td>\n",
       "      <td>Yerba Buena Center for the Arts (Howard St at ...</td>\n",
       "      <td>37.784872</td>\n",
       "      <td>-122.400876</td>\n",
       "      <td>114</td>\n",
       "      <td>Rhode Island St at 17th St</td>\n",
       "      <td>37.764478</td>\n",
       "      <td>-122.402570</td>\n",
       "      <td>1035</td>\n",
       "      <td>Subscriber</td>\n",
       "      <td>1988</td>\n",
       "      <td>Male</td>\n",
       "      <td>No</td>\n",
       "      <td>32</td>\n",
       "      <td>Wed</td>\n",
       "      <td>9.966667</td>\n",
       "    </tr>\n",
       "    <tr>\n",
       "      <th>1</th>\n",
       "      <td>943</td>\n",
       "      <td>2018-02-28 23:21:16.495</td>\n",
       "      <td>2018-02-28 23:36:59.974</td>\n",
       "      <td>6</td>\n",
       "      <td>The Embarcadero at Sansome St</td>\n",
       "      <td>37.804770</td>\n",
       "      <td>-122.403234</td>\n",
       "      <td>324</td>\n",
       "      <td>Union Square (Powell St at Post St)</td>\n",
       "      <td>37.788300</td>\n",
       "      <td>-122.408531</td>\n",
       "      <td>1673</td>\n",
       "      <td>Customer</td>\n",
       "      <td>1987</td>\n",
       "      <td>Male</td>\n",
       "      <td>No</td>\n",
       "      <td>33</td>\n",
       "      <td>Wed</td>\n",
       "      <td>15.716667</td>\n",
       "    </tr>\n",
       "    <tr>\n",
       "      <th>4</th>\n",
       "      <td>885</td>\n",
       "      <td>2018-02-28 23:15:12.858</td>\n",
       "      <td>2018-02-28 23:29:58.608</td>\n",
       "      <td>308</td>\n",
       "      <td>San Pedro Square</td>\n",
       "      <td>37.336802</td>\n",
       "      <td>-121.894090</td>\n",
       "      <td>297</td>\n",
       "      <td>Locust St at Grant St</td>\n",
       "      <td>37.322980</td>\n",
       "      <td>-121.887931</td>\n",
       "      <td>1839</td>\n",
       "      <td>Subscriber</td>\n",
       "      <td>1976</td>\n",
       "      <td>Female</td>\n",
       "      <td>Yes</td>\n",
       "      <td>44</td>\n",
       "      <td>Wed</td>\n",
       "      <td>14.750000</td>\n",
       "    </tr>\n",
       "  </tbody>\n",
       "</table>\n",
       "</div>"
      ],
      "text/plain": [
       "   duration_sec              start_time                end_time  \\\n",
       "0           598 2018-02-28 23:59:47.097 2018-03-01 00:09:45.187   \n",
       "1           943 2018-02-28 23:21:16.495 2018-02-28 23:36:59.974   \n",
       "4           885 2018-02-28 23:15:12.858 2018-02-28 23:29:58.608   \n",
       "\n",
       "   start_station_id                                 start_station_name  \\\n",
       "0               284  Yerba Buena Center for the Arts (Howard St at ...   \n",
       "1                 6                      The Embarcadero at Sansome St   \n",
       "4               308                                   San Pedro Square   \n",
       "\n",
       "   start_station_latitude  start_station_longitude  end_station_id  \\\n",
       "0               37.784872              -122.400876             114   \n",
       "1               37.804770              -122.403234             324   \n",
       "4               37.336802              -121.894090             297   \n",
       "\n",
       "                      end_station_name  end_station_latitude  \\\n",
       "0           Rhode Island St at 17th St             37.764478   \n",
       "1  Union Square (Powell St at Post St)             37.788300   \n",
       "4                Locust St at Grant St             37.322980   \n",
       "\n",
       "   end_station_longitude  bike_id   user_type  member_birth_year  \\\n",
       "0            -122.402570     1035  Subscriber               1988   \n",
       "1            -122.408531     1673    Customer               1987   \n",
       "4            -121.887931     1839  Subscriber               1976   \n",
       "\n",
       "  member_gender bike_share_for_all_trip  member_age st_week_name  duration_min  \n",
       "0          Male                      No          32          Wed      9.966667  \n",
       "1          Male                      No          33          Wed     15.716667  \n",
       "4        Female                     Yes          44          Wed     14.750000  "
      ]
     },
     "execution_count": 28,
     "metadata": {},
     "output_type": "execute_result"
    }
   ],
   "source": [
    "df.head(3)"
   ]
  },
  {
   "cell_type": "code",
   "execution_count": 29,
   "metadata": {
    "slideshow": {
     "slide_type": "skip"
    }
   },
   "outputs": [
    {
     "name": "stdout",
     "output_type": "stream",
     "text": [
      "<class 'pandas.core.frame.DataFrame'>\n",
      "Int64Index: 96377 entries, 0 to 106717\n",
      "Data columns (total 19 columns):\n",
      " #   Column                   Non-Null Count  Dtype         \n",
      "---  ------                   --------------  -----         \n",
      " 0   duration_sec             96377 non-null  int64         \n",
      " 1   start_time               96377 non-null  datetime64[ns]\n",
      " 2   end_time                 96377 non-null  datetime64[ns]\n",
      " 3   start_station_id         96377 non-null  int64         \n",
      " 4   start_station_name       96377 non-null  object        \n",
      " 5   start_station_latitude   96377 non-null  float64       \n",
      " 6   start_station_longitude  96377 non-null  float64       \n",
      " 7   end_station_id           96377 non-null  int64         \n",
      " 8   end_station_name         96377 non-null  object        \n",
      " 9   end_station_latitude     96377 non-null  float64       \n",
      " 10  end_station_longitude    96377 non-null  float64       \n",
      " 11  bike_id                  96377 non-null  int64         \n",
      " 12  user_type                96377 non-null  category      \n",
      " 13  member_birth_year        96377 non-null  int64         \n",
      " 14  member_gender            96377 non-null  category      \n",
      " 15  bike_share_for_all_trip  96377 non-null  category      \n",
      " 16  member_age               96377 non-null  int64         \n",
      " 17  st_week_name             96377 non-null  object        \n",
      " 18  duration_min             96377 non-null  float64       \n",
      "dtypes: category(3), datetime64[ns](2), float64(5), int64(6), object(3)\n",
      "memory usage: 12.8+ MB\n"
     ]
    }
   ],
   "source": [
    "df.info()"
   ]
  },
  {
   "cell_type": "markdown",
   "metadata": {
    "slideshow": {
     "slide_type": "slide"
    }
   },
   "source": [
    "### What is the structure of your dataset? \n",
    "\n",
    "201802-fordgobike-tripdata-2 dataset has 98626 rows and 17 individual columns after cleaning. 16 columns included:\n",
    "\n",
    " 0   duration_sec (int64) \n",
    " 1   start_time (datetime64)\n",
    " 2   end_time (datetime64)\n",
    " 3   start_station_id (int64)\n",
    " 4   start_station_name (object)\n",
    " 5   start_station_latitude (float64)\n",
    " 6   start_station_longitude (float64)\n",
    " 7   end_station_id (int64)\n",
    " 8   end_station_name (object)\n",
    " 9   end_station_latitude (float64)\n",
    " 10  end_station_longitude (float64)\n",
    " 11  bike_id (int64)  \n",
    " 12  user_type (category) \n",
    " 13  member_birth_year (int64)        \n",
    " 14  member_gender (category)      \n",
    " 15  bike_share_for_all_trip (category)     \n",
    " 16  member_age (int64)\n",
    " \n",
    "### What is/are the main feature(s) of interest in your dataset? \n",
    "\n",
    "For my investigation I my main interest features are the followings:\n",
    "\n",
    "1. duration_sec\n",
    "2. member_gender\n",
    "3. bike_share_for_all_trip\n",
    "4. member_age\n",
    "\n",
    "### What features in the dataset do you think will help support your investigation into your feature(s) of interest? \n",
    "\n",
    "I think all of the features will help me investigate for this analysis, however, I think ones with duration_sec, ember_gender, bike_share_for_all_trip and member_age will help me most because it is what I am interested the most. "
   ]
  },
  {
   "cell_type": "markdown",
   "metadata": {
    "slideshow": {
     "slide_type": "slide"
    }
   },
   "source": [
    "## Univariate Exploration"
   ]
  },
  {
   "cell_type": "markdown",
   "metadata": {
    "slideshow": {
     "slide_type": "slide"
    }
   },
   "source": [
    "Before we move on to the each visulizations, Let's take a over look of our data and their values"
   ]
  },
  {
   "cell_type": "code",
   "execution_count": 30,
   "metadata": {
    "slideshow": {
     "slide_type": "subslide"
    }
   },
   "outputs": [
    {
     "data": {
      "image/png": "[encoded data removed]",
      "text/plain": [
       "<Figure size 432x288 with 12 Axes>"
      ]
     },
     "metadata": {
      "needs_background": "light"
     },
     "output_type": "display_data"
    }
   ],
   "source": [
    "df.hist(bins=15, color='steelblue', edgecolor='black', linewidth=1.0, grid=True)    \n",
    "plt.tight_layout(rect=(0, 0, 2, 2))  "
   ]
  },
  {
   "cell_type": "markdown",
   "metadata": {
    "slideshow": {
     "slide_type": "slide"
    }
   },
   "source": [
    "## Univariate Exploration\n",
    "### #1 How many people share bike ride?"
   ]
  },
  {
   "cell_type": "markdown",
   "metadata": {
    "slideshow": {
     "slide_type": "slide"
    }
   },
   "source": [
    "In order to do this research, we need to use bike_share_for_all_trip columns. "
   ]
  },
  {
   "cell_type": "code",
   "execution_count": 31,
   "metadata": {
    "slideshow": {
     "slide_type": "subslide"
    }
   },
   "outputs": [
    {
     "data": {
      "text/plain": [
       "No     87436\n",
       "Yes     8941\n",
       "Name: bike_share_for_all_trip, dtype: int64"
      ]
     },
     "execution_count": 31,
     "metadata": {},
     "output_type": "execute_result"
    }
   ],
   "source": [
    "# Value count is necessary in order to do the following code\n",
    "df.bike_share_for_all_trip.value_counts()"
   ]
  },
  {
   "cell_type": "code",
   "execution_count": 32,
   "metadata": {
    "slideshow": {
     "slide_type": "subslide"
    }
   },
   "outputs": [
    {
     "data": {
      "image/png": "[encoded data removed]",
      "text/plain": [
       "<Figure size 432x288 with 1 Axes>"
      ]
     },
     "metadata": {
      "needs_background": "light"
     },
     "output_type": "display_data"
    }
   ],
   "source": [
    "sb.countplot(data = df, x = 'bike_share_for_all_trip');"
   ]
  },
  {
   "cell_type": "markdown",
   "metadata": {
    "slideshow": {
     "slide_type": "slide"
    }
   },
   "source": [
    "Above graph demonstrates overall quantity of \"Yes\" and \"No\" in bike_share_for_all_trip column"
   ]
  },
  {
   "cell_type": "code",
   "execution_count": 33,
   "metadata": {
    "slideshow": {
     "slide_type": "subslide"
    }
   },
   "outputs": [],
   "source": [
    "# Numbers are saved in order to do the appropriate proportion. \n",
    "exp_val = [89145,9481]\n",
    "exp_label = [\"No\", \"Yes\"]"
   ]
  },
  {
   "cell_type": "code",
   "execution_count": 34,
   "metadata": {
    "slideshow": {
     "slide_type": "subslide"
    }
   },
   "outputs": [
    {
     "data": {
      "image/png": "[encoded data removed]",
      "text/plain": [
       "<Figure size 432x288 with 1 Axes>"
      ]
     },
     "metadata": {},
     "output_type": "display_data"
    }
   ],
   "source": [
    "plt.axis(\"equal\")\n",
    "plt.title('Share Bike Ride Yes or No', fontsize=15, y=1.05, fontweight='semibold')\n",
    "plt.pie(exp_val,labels=exp_label,radius=1.2,autopct='%0.2f%%',explode=[0,0.3], )\n",
    "plt.legend(('No','Yes'));"
   ]
  },
  {
   "cell_type": "markdown",
   "metadata": {
    "slideshow": {
     "slide_type": "slide"
    }
   },
   "source": [
    "This graph demonstrates over all proportion of \"Yes\" and \"No\" from entire population. "
   ]
  },
  {
   "cell_type": "markdown",
   "metadata": {
    "slideshow": {
     "slide_type": "slide"
    }
   },
   "source": [
    "Observation:\n",
    "> In the pie chart, I convey the result of my research on \"How many people share bike ride?\". This graph demonstrate people who shares the bike ride and who doesn't share the bike riding in percentage. According to the data and more clearly on the vidualization, Definetly \"No\" is from majority of the people. As a result of this, we figured that majority (90.39%) of people did not share the bike ride."
   ]
  },
  {
   "cell_type": "markdown",
   "metadata": {
    "slideshow": {
     "slide_type": "slide"
    }
   },
   "source": [
    "### Discuss the distribution(s) of your variable(s) of interest. Were there any unusual points? Did you need to perform any transformations?¶\n",
    "\n",
    "I presented my distribution on pie chart because it represents the whole proportion of the population and they divided into two pieces. So it is much easier to interpret the porportion of Yes and No. I expected this same result so there weren't any unsual points. I predicted that more bike rider do not share their bike because they rented for their own use. For this visualization i used two set of graph. First basic bar graph is to show general overall quantity of each values and second pie chart is for proportion of each values. This tranformaiton into our visulization will help viewers understand the data and multiple aspects. \n",
    "\n",
    "### Of the features you investigated, were there any unusual distributions? Did you perform any operations on the data to tidy, adjust, or change the form of the data? If so, why did you do this?¶\n",
    "\n",
    "I used the explode function to put some pad between two values to make distinctive and easier to view. I've also used autopct function to round the decimal to the hundredths places to fit the number into pie. "
   ]
  },
  {
   "cell_type": "markdown",
   "metadata": {
    "slideshow": {
     "slide_type": "slide"
    }
   },
   "source": [
    "## Bivariate Exploration\n",
    "### #2 How long did the different gender group ride a bike? (Duration (sec) vs Member gender)"
   ]
  },
  {
   "cell_type": "code",
   "execution_count": 35,
   "metadata": {
    "slideshow": {
     "slide_type": "subslide"
    }
   },
   "outputs": [
    {
     "data": {
      "image/png": "[encoded data removed]",
      "text/plain": [
       "<Figure size 576x360 with 1 Axes>"
      ]
     },
     "metadata": {
      "needs_background": "light"
     },
     "output_type": "display_data"
    }
   ],
   "source": [
    "new_color = ['blue', 'orange', 'green']\n",
    "ax = df.groupby('member_gender')['duration_sec'].mean().plot(kind='barh', color=new_color, figsize=(8,5))\n",
    "plt.title('Duration_sec for each group of gender', fontsize=15, y=1.05, fontweight='semibold')\n",
    "plt.ylabel('member gender', labelpad=16,  fontsize=12)\n",
    "plt.xlabel('Duration in sec', labelpad=16,  fontsize=12)\n",
    "plt.xticks(rotation=360)\n",
    "plt.grid()\n",
    "# To view the actual values for each group\n",
    "[ax.text(v, i, '{:.1f}'.format(v)) for i, v in enumerate(df.groupby(['member_gender'])['duration_sec'].mean())];"
   ]
  },
  {
   "cell_type": "markdown",
   "metadata": {
    "slideshow": {
     "slide_type": "slide"
    }
   },
   "source": [
    "I used bar graph and label it with it's value since difference between other and female is so minor."
   ]
  },
  {
   "cell_type": "code",
   "execution_count": 36,
   "metadata": {
    "slideshow": {
     "slide_type": "subslide"
    }
   },
   "outputs": [
    {
     "data": {
      "image/png": "[encoded data removed]",
      "text/plain": [
       "<Figure size 432x288 with 1 Axes>"
      ]
     },
     "metadata": {
      "needs_background": "light"
     },
     "output_type": "display_data"
    }
   ],
   "source": [
    "sb.boxplot(x='duration_sec', y='member_gender', data=df)\n",
    "plt.title('duration_sec for each gender', fontsize=15, y=1.05, fontweight='semibold')\n",
    "plt.ylabel('Member Gender', labelpad=16,  fontsize=12)\n",
    "plt.xlabel('Duration in sec', labelpad=16,  fontsize=12);"
   ]
  },
  {
   "cell_type": "markdown",
   "metadata": {
    "slideshow": {
     "slide_type": "slide"
    }
   },
   "source": [
    "Box plot demonstrates overall average in different aspects. Compare to bar graph, this graph helps us to interpret better on outliers on female and other gender. female gender have more outlier then other gender group."
   ]
  },
  {
   "cell_type": "markdown",
   "metadata": {
    "slideshow": {
     "slide_type": "slide"
    }
   },
   "source": [
    "Observation:\n",
    ">In these Bar and box plot, I displayed how each group of gender have different duration in sec. As you can see from the graph, male gender holds lowest average duration sec compared to other two genders. However, it was diffcult to compare female and other gender average duration in sec. So I placed numeric value of on top of each bars in the graph. In a slight difference (2.1) female group had highest duration_sec in average. In addition to this, I also made a visualization of box plot that displays min, max median, Q1 and Q3. What I noticed from this box plot is that male group had significantly low max rate compared to other two gender group and overall lower median, Q1 and Q3. "
   ]
  },
  {
   "cell_type": "markdown",
   "metadata": {
    "slideshow": {
     "slide_type": "slide"
    }
   },
   "source": [
    "### Talk about some of the relationships you observed in this part of the investigation. How did the feature(s) of interest vary with other features in the dataset?¶\n",
    "\n",
    "I observed that female and other gender had pretty similar mean duration seconds. In order to compare which has more duration second, I implimented value label on box graph. As a result of that I figured out that female gender had 2.1 seconds more mean duration in second then other gender. This is very slight difference so it was impossible to notice on the visualization. On the other hand, male had comparatively lower mean duration in second compared to other two genders. This is distictive on both graphs. \n",
    "\n",
    "### Did you observe any interesting relationships between the other features (not the main feature(s) of interest)?¶\n",
    "\n",
    "Since this graph was relationship between qualitative values vs. quantitative values there weren't direct correation between two features. However we can make an assumption that as mean duration in sec increases female and other gender increases faster rate then male gender. "
   ]
  },
  {
   "cell_type": "markdown",
   "metadata": {
    "slideshow": {
     "slide_type": "slide"
    }
   },
   "source": [
    "## Multivariate Exploration\n",
    "### #3 How is each user type's duration in min in every day of the week? \n",
    "### (User type VS Start week name VS duration in min)"
   ]
  },
  {
   "cell_type": "code",
   "execution_count": 37,
   "metadata": {
    "slideshow": {
     "slide_type": "subslide"
    }
   },
   "outputs": [
    {
     "name": "stderr",
     "output_type": "stream",
     "text": [
      "/opt/anaconda3/lib/python3.7/site-packages/seaborn/axisgrid.py:243: UserWarning: The `size` parameter has been renamed to `height`; please update your code.\n",
      "  warnings.warn(msg, UserWarning)\n",
      "/opt/anaconda3/lib/python3.7/site-packages/seaborn/axisgrid.py:728: UserWarning: Using the boxplot function without specifying `order` is likely to produce an incorrect plot.\n",
      "  warnings.warn(warning)\n"
     ]
    },
    {
     "data": {
      "image/png": "[encoded data removed]",
      "text/plain": [
       "<Figure size 720x360 with 2 Axes>"
      ]
     },
     "metadata": {
      "needs_background": "light"
     },
     "output_type": "display_data"
    }
   ],
   "source": [
    "g = sb.FacetGrid(data = df, col = 'user_type', size = 5)\n",
    "g.map(sb.boxplot, 'st_week_name', 'duration_min')\n",
    "# To display day of the week in order\n",
    "df.st_week_name= pd.Categorical(df.st_week_name, categories=['Mon', 'Tue', 'Wed', 'Thu', 'Fri', 'Sat', 'Sun'], ordered=True);"
   ]
  },
  {
   "cell_type": "markdown",
   "metadata": {
    "slideshow": {
     "slide_type": "slide"
    }
   },
   "source": [
    "I have displayed two spaces for usertype. One for customer and other for substriber. "
   ]
  },
  {
   "cell_type": "code",
   "execution_count": 38,
   "metadata": {
    "slideshow": {
     "slide_type": "subslide"
    }
   },
   "outputs": [
    {
     "data": {
      "image/png": "[encoded data removed]",
      "text/plain": [
       "<Figure size 432x288 with 1 Axes>"
      ]
     },
     "metadata": {
      "needs_background": "light"
     },
     "output_type": "display_data"
    }
   ],
   "source": [
    "sb.pointplot(data=df, x='st_week_name', y='duration_min', hue='user_type', dodge=0.3, linestyles='')\n",
    "plt.title('Duration vs Day of the week for User Type', fontsize=15, y=1.05, fontweight='semibold')\n",
    "plt.xlabel('Day of the week', labelpad=13, fontsize=12)\n",
    "plt.ylabel('Duration in min', labelpad=13, fontsize=12)\n",
    "df.st_week_name= pd.Categorical(df.st_week_name, categories=['Mon', 'Tue', 'Wed', 'Thu', 'Fri', 'Sat', 'Sun'], ordered=True);"
   ]
  },
  {
   "cell_type": "markdown",
   "metadata": {
    "slideshow": {
     "slide_type": "slide"
    }
   },
   "source": [
    "Pointplot shows the flow of duration in min for each week very clearly. "
   ]
  },
  {
   "cell_type": "code",
   "execution_count": 39,
   "metadata": {
    "slideshow": {
     "slide_type": "subslide"
    }
   },
   "outputs": [
    {
     "data": {
      "image/png": "[encoded data removed]",
      "text/plain": [
       "<Figure size 432x288 with 2 Axes>"
      ]
     },
     "metadata": {
      "needs_background": "light"
     },
     "output_type": "display_data"
    }
   ],
   "source": [
    "df2 = df.groupby(['user_type', 'st_week_name']).mean()['duration_min']\n",
    "df2 = df2.reset_index(name = 'duration_min_avg')\n",
    "df2 = df2.pivot(index = 'st_week_name', columns = 'user_type',\n",
    "                            values = 'duration_min_avg')\n",
    "sb.heatmap(df2, annot = True, fmt = '.3f',\n",
    "           cbar_kws = {'label' : 'mean(duration_min)'});\n",
    "plt.title('Duration vs Day of the week for User Type', fontsize=15, fontweight='semibold')\n",
    "plt.ylabel('Day of the Week', labelpad=16,  fontsize=12)\n",
    "plt.xlabel('User Type', labelpad=14,  fontsize=12)\n",
    "df.st_week_name= pd.Categorical(df.st_week_name, categories=['Mon', 'Tue', 'Wed', 'Thu', 'Fri', 'Sat', 'Sun'], ordered=True);"
   ]
  },
  {
   "cell_type": "markdown",
   "metadata": {
    "slideshow": {
     "slide_type": "slide"
    }
   },
   "source": [
    "Color palette displays differences between customer and subscriber by color. "
   ]
  },
  {
   "cell_type": "markdown",
   "metadata": {
    "slideshow": {
     "slide_type": "slide"
    }
   },
   "source": [
    "Observation:\n",
    ">I made a research on how each user type's duration in min varies in each day of the week. In order to conclude this result more precise, I displayed three visualizations. You can see overall distinctions between customer's and subscriber's differenciate from all three graphs. I laid the day of the week in order to make is easier to interpret to the audiance. As you can see on the first box plot, even with the glance, you can cleary conclude that user type cusomter's duration in min is relatively higher then user type subscriber's duration in min. You can also see that on Saturday and Sunday presents relatively higher average duration in min compare to other day of the week. Same asect showed on second visulization. For the last visualization, I used color palette to present. The color on the graph represent the mean of duration in min. As they have darker the color it means the lower the duration in min. As you can see, subscriber repersent much darker color then customer. Like other two graph, this last graph presents relatively higher average duratin in min on Sunday and Saturday compared to other day of the week. \n",
    "\n",
    ">As a result of this research, we can conclude that average duration in custmomer is much higher then average duration in subscriber. Especially on Saturday and Sunday presents much higher average duration in min compared to other day of the week. However, subscriber's day of the week is hard to differenciate due to their minor changes in each day. However, on point plot, we can tell that Saturday and Sunday represent higher then other day of the week."
   ]
  },
  {
   "cell_type": "markdown",
   "metadata": {
    "slideshow": {
     "slide_type": "slide"
    }
   },
   "source": [
    "### Talk about some of the relationships you observed in this part of the investigation. Were there features that strengthened each other in terms of looking at your feature(s) of interest?¶\n",
    "\n",
    "As I mentioned in the observation above, I found that customer's duration in min is much higher then duration for subscribers. I have used color palette and pointplot to disticnt the differences between each relation much easier and faster. This color distinction was helpful in many ways. This function helps audience to interpret the graph and flow at a glance. \n",
    "\n",
    "### Were there any interesting or surprising interactions between features?¶\n",
    "\n",
    "I was expecting more mean duration time during weekends because people can spend more time on bike riding. Howeer, It was little surprising to see huge difference between customer and subscriber mean duration time. Including weekdays and weekends there were substantial gap between customer's and subscriber's mean duration time. "
   ]
  },
  {
   "cell_type": "markdown",
   "metadata": {
    "slideshow": {
     "slide_type": "slide"
    }
   },
   "source": [
    "## Reference\n",
    "\n",
    "https://datatofish.com/string-to-integer-dataframe/ \n",
    "\n",
    "https://www.youtube.com/watch?v=GOuUGWGUT14 \n"
   ]
  },
  {
   "cell_type": "code",
   "execution_count": 42,
   "metadata": {},
   "outputs": [
    {
     "name": "stdout",
     "output_type": "stream",
     "text": [
      "/bin/sh: notebook_name: No such file or directory\r\n"
     ]
    }
   ],
   "source": [
    "! jupyter nbconvert <notebook_name>.ipynb --to slides --post serve --template output_toggle"
   ]
  },
  {
   "cell_type": "code",
   "execution_count": null,
   "metadata": {},
   "outputs": [],
   "source": []
  }
 ],
 "metadata": {
  "celltoolbar": "Slideshow",
  "kernelspec": {
   "display_name": "Python 3",
   "language": "python",
   "name": "python3"
  },
  "language_info": {
   "codemirror_mode": {
    "name": "ipython",
    "version": 3
   },
   "file_extension": ".py",
   "mimetype": "text/x-python",
   "name": "python",
   "nbconvert_exporter": "python",
   "pygments_lexer": "ipython3",
   "version": "3.7.6"
  }
 },
 "nbformat": 4,
 "nbformat_minor": 4
}
