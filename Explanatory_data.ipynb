{
 "cells": [
  {
   "cell_type": "markdown",
   "metadata": {
    "slideshow": {
     "slide_type": "skip"
    }
   },
   "source": [
    "## Ford Go Bike Data Visualization\n",
    "\n",
    "### Investigation Overview\n",
    "\n",
    "Ford Go Bike data set includes information about rides in San Francisco Bay area. This data set consists of millions of information. For this investigation, Member gender, age, user type, bike share riding and duration time will be ued. \n",
    "\n",
    "### Dataset Overview\n",
    "\n",
    "Ford Go Bike data set inclues following features: duration_sec, start_time, end_time, start_station_id, start_station_name, start_station_latitude, start_station_longitude\t, end_station_id, end_station_name, end_station_latitude, end_station_longitude, bike_id, user_type. member_birth_year, member_gender, bike_share_for_all_trip. \n",
    "There are total of 16 columns and 106718 rows of values. "
   ]
  },
  {
   "cell_type": "code",
   "execution_count": 13,
   "metadata": {},
   "outputs": [],
   "source": [
    "import numpy as np\n",
    "import pandas as pd\n",
    "import matplotlib.pyplot as plt\n",
    "import seaborn as sb\n",
    "import datetime\n",
    "import requests\n",
    "import os\n",
    "import zipfile\n",
    "from sklearn.cluster import KMeans\n",
    "%matplotlib inline"
   ]
  },
  {
   "cell_type": "code",
   "execution_count": 14,
   "metadata": {
    "slideshow": {
     "slide_type": "skip"
    }
   },
   "outputs": [],
   "source": [
    "df = pd.read_csv('201802-fordgobike-tripdata-2.csv')"
   ]
  },
  {
   "cell_type": "code",
   "execution_count": 15,
   "metadata": {
    "slideshow": {
     "slide_type": "skip"
    }
   },
   "outputs": [],
   "source": [
    "df['start_time'] = pd.to_datetime(df['start_time'])\n",
    "df['end_time'] = pd.to_datetime(df['end_time'])"
   ]
  },
  {
   "cell_type": "code",
   "execution_count": 16,
   "metadata": {
    "slideshow": {
     "slide_type": "skip"
    }
   },
   "outputs": [],
   "source": [
    "df['user_type'] = df['user_type'].astype('category')\n",
    "df['member_gender'] = df['member_gender'].astype('category')\n",
    "df['bike_share_for_all_trip'] = df['bike_share_for_all_trip'].astype('category')"
   ]
  },
  {
   "cell_type": "code",
   "execution_count": 17,
   "metadata": {
    "slideshow": {
     "slide_type": "skip"
    }
   },
   "outputs": [],
   "source": [
    "df = df.dropna(how='any',axis=0) "
   ]
  },
  {
   "cell_type": "code",
   "execution_count": 18,
   "metadata": {
    "slideshow": {
     "slide_type": "skip"
    }
   },
   "outputs": [],
   "source": [
    "# Refered from https://github.com/saiogirala/Ford_Bike_Communicating_Findings/blob/master/Exploratory_Data_Analysis.ipynb\n",
    "df['member_age'] = 2020-df['member_birth_year']"
   ]
  },
  {
   "cell_type": "code",
   "execution_count": 19,
   "metadata": {
    "scrolled": true,
    "slideshow": {
     "slide_type": "skip"
    }
   },
   "outputs": [],
   "source": [
    "df['start_station_id'] = df['start_station_id'].astype('int')\n",
    "df['end_station_id'] = df['end_station_id'].astype('int')\n",
    "df['member_birth_year'] = df['member_birth_year'].astype('int')\n",
    "df['member_age'] = df['member_age'].astype('int')\n",
    "df['bike_id'] = pd.to_numeric(df['bike_id'])"
   ]
  },
  {
   "cell_type": "code",
   "execution_count": 20,
   "metadata": {
    "slideshow": {
     "slide_type": "skip"
    }
   },
   "outputs": [],
   "source": [
    "df = df.query('duration_sec <= 2000')"
   ]
  },
  {
   "cell_type": "code",
   "execution_count": 21,
   "metadata": {
    "slideshow": {
     "slide_type": "skip"
    }
   },
   "outputs": [],
   "source": [
    "df['st_month_name']=df['start_time'].dt.strftime('%B')"
   ]
  },
  {
   "cell_type": "code",
   "execution_count": 22,
   "metadata": {
    "slideshow": {
     "slide_type": "skip"
    }
   },
   "outputs": [],
   "source": [
    "df['st_week_name']=df['start_time'].dt.strftime('%a')"
   ]
  },
  {
   "cell_type": "code",
   "execution_count": 23,
   "metadata": {
    "slideshow": {
     "slide_type": "skip"
    }
   },
   "outputs": [],
   "source": [
    "df['duration_min'] = df['duration_sec']/60"
   ]
  },
  {
   "cell_type": "markdown",
   "metadata": {
    "slideshow": {
     "slide_type": "slide"
    }
   },
   "source": [
    "## Univariate Exploration\n",
    "### #1 How many people share bike ride?"
   ]
  },
  {
   "cell_type": "markdown",
   "metadata": {
    "slideshow": {
     "slide_type": "slide"
    }
   },
   "source": [
    "In order to do this research, we need to use bike_share_for_all_trip columns. "
   ]
  },
  {
   "cell_type": "code",
   "execution_count": 24,
   "metadata": {
    "slideshow": {
     "slide_type": "subslide"
    }
   },
   "outputs": [
    {
     "data": {
      "image/png": "[encoded data removed]",
      "text/plain": [
       "<Figure size 432x288 with 1 Axes>"
      ]
     },
     "metadata": {
      "needs_background": "light"
     },
     "output_type": "display_data"
    }
   ],
   "source": [
    "sb.countplot(data = df, x = 'bike_share_for_all_trip');"
   ]
  },
  {
   "cell_type": "markdown",
   "metadata": {
    "slideshow": {
     "slide_type": "slide"
    }
   },
   "source": [
    "Above graph demonstrates overall quantity of \"Yes\" and \"No\" in bike_share_for_all_trip column"
   ]
  },
  {
   "cell_type": "code",
   "execution_count": 25,
   "metadata": {
    "slideshow": {
     "slide_type": "subslide"
    }
   },
   "outputs": [],
   "source": [
    "# Numbers are saved in order to do the appropriate proportion. \n",
    "exp_val = [89145,9481]\n",
    "exp_label = [\"No\", \"Yes\"]"
   ]
  },
  {
   "cell_type": "code",
   "execution_count": 26,
   "metadata": {
    "slideshow": {
     "slide_type": "subslide"
    }
   },
   "outputs": [
    {
     "data": {
      "image/png": "[encoded data removed]",
      "text/plain": [
       "<Figure size 432x288 with 1 Axes>"
      ]
     },
     "metadata": {},
     "output_type": "display_data"
    }
   ],
   "source": [
    "plt.axis(\"equal\")\n",
    "plt.title('Share Bike Ride Yes or No', fontsize=15, y=1.05, fontweight='semibold')\n",
    "plt.pie(exp_val,labels=exp_label,radius=1.2,autopct='%0.2f%%',explode=[0,0.3], )\n",
    "plt.legend(('No','Yes'));"
   ]
  },
  {
   "cell_type": "markdown",
   "metadata": {
    "slideshow": {
     "slide_type": "slide"
    }
   },
   "source": [
    "This graph demonstrates over all proportion of \"Yes\" and \"No\" from entire population. "
   ]
  },
  {
   "cell_type": "markdown",
   "metadata": {
    "slideshow": {
     "slide_type": "slide"
    }
   },
   "source": [
    "Observation:\n",
    "> In the pie chart, I convey the result of my research on \"How many people share bike ride?\". This graph demonstrate people who shares the bike ride and who doesn't share the bike riding in percentage. According to the data and more clearly on the vidualization, Definetly \"No\" is from majority of the people. As a result of this, we figured that majority (90.39%) of people did not share the bike ride."
   ]
  },
  {
   "cell_type": "markdown",
   "metadata": {
    "slideshow": {
     "slide_type": "slide"
    }
   },
   "source": [
    "### Discuss the distribution(s) of your variable(s) of interest. Were there any unusual points? Did you need to perform any transformations?¶\n",
    "\n",
    "I presented my distribution on pie chart because it represents the whole proportion of the population and they divided into two pieces. So it is much easier to interpret the porportion of Yes and No. I expected this same result so there weren't any unsual points. I predicted that more bike rider do not share their bike because they rented for their own use. For this visualization i used two set of graph. First basic bar graph is to show general overall quantity of each values and second pie chart is for proportion of each values. This tranformaiton into our visulization will help viewers understand the data and multiple aspects. \n",
    "\n",
    "### Of the features you investigated, were there any unusual distributions? Did you perform any operations on the data to tidy, adjust, or change the form of the data? If so, why did you do this?¶\n",
    "\n",
    "I used the explode function to put some pad between two values to make distinctive and easier to view. I've also used autopct function to round the decimal to the hundredths places to fit the number into pie. "
   ]
  },
  {
   "cell_type": "markdown",
   "metadata": {
    "slideshow": {
     "slide_type": "slide"
    }
   },
   "source": [
    "## Bivariate Exploration\n",
    "### #2 How long did the different gender group ride a bike? (Duration (sec) vs Member gender)"
   ]
  },
  {
   "cell_type": "code",
   "execution_count": 27,
   "metadata": {
    "slideshow": {
     "slide_type": "subslide"
    }
   },
   "outputs": [
    {
     "data": {
      "image/png": "[encoded data removed]",
      "text/plain": [
       "<Figure size 576x360 with 1 Axes>"
      ]
     },
     "metadata": {
      "needs_background": "light"
     },
     "output_type": "display_data"
    }
   ],
   "source": [
    "new_color = ['blue', 'orange', 'green']\n",
    "ax = df.groupby('member_gender')['duration_sec'].mean().plot(kind='barh', color=new_color, figsize=(8,5))\n",
    "plt.title('Duration_sec for each group of gender', fontsize=15, y=1.05, fontweight='semibold')\n",
    "plt.ylabel('member gender', labelpad=16,  fontsize=12)\n",
    "plt.xlabel('Duration in sec', labelpad=16,  fontsize=12)\n",
    "plt.xticks(rotation=360)\n",
    "plt.grid()\n",
    "# To view the actual values for each group\n",
    "[ax.text(v, i, '{:.1f}'.format(v)) for i, v in enumerate(df.groupby(['member_gender'])['duration_sec'].mean())];"
   ]
  },
  {
   "cell_type": "markdown",
   "metadata": {
    "slideshow": {
     "slide_type": "slide"
    }
   },
   "source": [
    "I used bar graph and label it with it's value since difference between other and female is so minor."
   ]
  },
  {
   "cell_type": "code",
   "execution_count": 28,
   "metadata": {
    "slideshow": {
     "slide_type": "subslide"
    }
   },
   "outputs": [
    {
     "data": {
      "image/png": "[encoded data removed]",
      "text/plain": [
       "<Figure size 432x288 with 1 Axes>"
      ]
     },
     "metadata": {
      "needs_background": "light"
     },
     "output_type": "display_data"
    }
   ],
   "source": [
    "sb.boxplot(x='duration_sec', y='member_gender', data=df)\n",
    "plt.title('duration_sec for each gender', fontsize=15, y=1.05, fontweight='semibold')\n",
    "plt.ylabel('Member Gender', labelpad=16,  fontsize=12)\n",
    "plt.xlabel('Duration in sec', labelpad=16,  fontsize=12);"
   ]
  },
  {
   "cell_type": "markdown",
   "metadata": {
    "slideshow": {
     "slide_type": "slide"
    }
   },
   "source": [
    "Box plot demonstrates overall average in different aspects. Compare to bar graph, this graph helps us to interpret better on outliers on female and other gender. female gender have more outlier then other gender group."
   ]
  },
  {
   "cell_type": "markdown",
   "metadata": {
    "slideshow": {
     "slide_type": "slide"
    }
   },
   "source": [
    "Observation:\n",
    ">In these Bar and box plot, I displayed how each group of gender have different duration in sec. As you can see from the graph, male gender holds lowest average duration sec compared to other two genders. However, it was diffcult to compare female and other gender average duration in sec. So I placed numeric value of on top of each bars in the graph. In a slight difference (2.1) female group had highest duration_sec in average. In addition to this, I also made a visualization of box plot that displays min, max median, Q1 and Q3. What I noticed from this box plot is that male group had significantly low max rate compared to other two gender group and overall lower median, Q1 and Q3. "
   ]
  },
  {
   "cell_type": "markdown",
   "metadata": {
    "slideshow": {
     "slide_type": "slide"
    }
   },
   "source": [
    "### Talk about some of the relationships you observed in this part of the investigation. How did the feature(s) of interest vary with other features in the dataset?¶\n",
    "\n",
    "I observed that female and other gender had pretty similar mean duration seconds. In order to compare which has more duration second, I implimented value label on box graph. As a result of that I figured out that female gender had 2.1 seconds more mean duration in second then other gender. This is very slight difference so it was impossible to notice on the visualization. On the other hand, male had comparatively lower mean duration in second compared to other two genders. This is distictive on both graphs. \n",
    "\n",
    "### Did you observe any interesting relationships between the other features (not the main feature(s) of interest)?¶\n",
    "\n",
    "Since this graph was relationship between qualitative values vs. quantitative values there weren't direct correation between two features. However we can make an assumption that as mean duration in sec increases female and other gender increases faster rate then male gender. "
   ]
  },
  {
   "cell_type": "markdown",
   "metadata": {
    "slideshow": {
     "slide_type": "slide"
    }
   },
   "source": [
    "## Multivariate Exploration\n",
    "### #3 How is each user type's duration in min in every day of the week? \n",
    "### (User type VS Start week name VS duration in min)"
   ]
  },
  {
   "cell_type": "code",
   "execution_count": 30,
   "metadata": {
    "slideshow": {
     "slide_type": "subslide"
    }
   },
   "outputs": [
    {
     "name": "stderr",
     "output_type": "stream",
     "text": [
      "/opt/anaconda3/lib/python3.7/site-packages/seaborn/axisgrid.py:243: UserWarning: The `size` parameter has been renamed to `height`; please update your code.\n",
      "  warnings.warn(msg, UserWarning)\n",
      "/opt/anaconda3/lib/python3.7/site-packages/seaborn/axisgrid.py:728: UserWarning: Using the boxplot function without specifying `order` is likely to produce an incorrect plot.\n",
      "  warnings.warn(warning)\n"
     ]
    },
    {
     "data": {
      "image/png": "[encoded data removed]",
      "text/plain": [
       "<Figure size 720x360 with 2 Axes>"
      ]
     },
     "metadata": {
      "needs_background": "light"
     },
     "output_type": "display_data"
    }
   ],
   "source": [
    "g = sb.FacetGrid(data = df, col = 'user_type', size = 5)\n",
    "g.map(sb.boxplot, 'st_week_name', 'duration_min')\n",
    "# To display day of the week in order\n",
    "df.st_week_name= pd.Categorical(df.st_week_name, categories=['Mon', 'Tue', 'Wed', 'Thu', 'Fri', 'Sat', 'Sun'], ordered=True);"
   ]
  },
  {
   "cell_type": "markdown",
   "metadata": {
    "slideshow": {
     "slide_type": "slide"
    }
   },
   "source": [
    "I have displayed two spaces for usertype. One for customer and other for substriber. "
   ]
  },
  {
   "cell_type": "code",
   "execution_count": 31,
   "metadata": {
    "slideshow": {
     "slide_type": "subslide"
    }
   },
   "outputs": [
    {
     "data": {
      "image/png": "[encoded data removed]",
      "text/plain": [
       "<Figure size 432x288 with 1 Axes>"
      ]
     },
     "metadata": {
      "needs_background": "light"
     },
     "output_type": "display_data"
    }
   ],
   "source": [
    "sb.pointplot(data=df, x='st_week_name', y='duration_min', hue='user_type', dodge=0.3, linestyles='')\n",
    "plt.title('Duration vs Day of the week for User Type', fontsize=15, y=1.05, fontweight='semibold')\n",
    "plt.xlabel('Day of the week', labelpad=13, fontsize=12)\n",
    "plt.ylabel('Duration in min', labelpad=13, fontsize=12)\n",
    "df.st_week_name= pd.Categorical(df.st_week_name, categories=['Mon', 'Tue', 'Wed', 'Thu', 'Fri', 'Sat', 'Sun'], ordered=True);"
   ]
  },
  {
   "cell_type": "markdown",
   "metadata": {
    "slideshow": {
     "slide_type": "slide"
    }
   },
   "source": [
    "Pointplot shows the flow of duration in min for each week very clearly. "
   ]
  },
  {
   "cell_type": "code",
   "execution_count": 32,
   "metadata": {
    "slideshow": {
     "slide_type": "subslide"
    }
   },
   "outputs": [
    {
     "data": {
      "image/png": "[encoded data removed]",
      "text/plain": [
       "<Figure size 432x288 with 2 Axes>"
      ]
     },
     "metadata": {
      "needs_background": "light"
     },
     "output_type": "display_data"
    }
   ],
   "source": [
    "df2 = df.groupby(['user_type', 'st_week_name']).mean()['duration_min']\n",
    "df2 = df2.reset_index(name = 'duration_min_avg')\n",
    "df2 = df2.pivot(index = 'st_week_name', columns = 'user_type',\n",
    "                            values = 'duration_min_avg')\n",
    "sb.heatmap(df2, annot = True, fmt = '.3f',\n",
    "           cbar_kws = {'label' : 'mean(duration_min)'});\n",
    "plt.title('Duration vs Day of the week for User Type', fontsize=15, fontweight='semibold')\n",
    "plt.ylabel('Day of the Week', labelpad=16,  fontsize=12)\n",
    "plt.xlabel('User Type', labelpad=14,  fontsize=12)\n",
    "df.st_week_name= pd.Categorical(df.st_week_name, categories=['Mon', 'Tue', 'Wed', 'Thu', 'Fri', 'Sat', 'Sun'], ordered=True);"
   ]
  },
  {
   "cell_type": "markdown",
   "metadata": {
    "slideshow": {
     "slide_type": "slide"
    }
   },
   "source": [
    "Color palette displays differences between customer and subscriber by color. "
   ]
  },
  {
   "cell_type": "markdown",
   "metadata": {
    "slideshow": {
     "slide_type": "slide"
    }
   },
   "source": [
    "Observation:\n",
    ">I made a research on how each user type's duration in min varies in each day of the week. In order to conclude this result more precise, I displayed three visualizations. You can see overall distinctions between customer's and subscriber's differenciate from all three graphs. I laid the day of the week in order to make is easier to interpret to the audiance. As you can see on the first box plot, even with the glance, you can cleary conclude that user type cusomter's duration in min is relatively higher then user type subscriber's duration in min. You can also see that on Saturday and Sunday presents relatively higher average duration in min compare to other day of the week. Same asect showed on second visulization. For the last visualization, I used color palette to present. The color on the graph represent the mean of duration in min. As they have darker the color it means the lower the duration in min. As you can see, subscriber repersent much darker color then customer. Like other two graph, this last graph presents relatively higher average duratin in min on Sunday and Saturday compared to other day of the week. \n",
    "\n",
    ">As a result of this research, we can conclude that average duration in custmomer is much higher then average duration in subscriber. Especially on Saturday and Sunday presents much higher average duration in min compared to other day of the week. However, subscriber's day of the week is hard to differenciate due to their minor changes in each day. However, on point plot, we can tell that Saturday and Sunday represent higher then other day of the week."
   ]
  },
  {
   "cell_type": "markdown",
   "metadata": {
    "slideshow": {
     "slide_type": "slide"
    }
   },
   "source": [
    "### Talk about some of the relationships you observed in this part of the investigation. Were there features that strengthened each other in terms of looking at your feature(s) of interest?¶\n",
    "\n",
    "As I mentioned in the observation above, I found that customer's duration in min is much higher then duration for subscribers. I have used color palette and pointplot to disticnt the differences between each relation much easier and faster. This color distinction was helpful in many ways. This function helps audience to interpret the graph and flow at a glance. \n",
    "\n",
    "### Were there any interesting or surprising interactions between features?¶\n",
    "\n",
    "I was expecting more mean duration time during weekends because people can spend more time on bike riding. Howeer, It was little surprising to see huge difference between customer and subscriber mean duration time. Including weekdays and weekends there were substantial gap between customer's and subscriber's mean duration time. "
   ]
  },
  {
   "cell_type": "markdown",
   "metadata": {
    "slideshow": {
     "slide_type": "slide"
    }
   },
   "source": [
    "## Reference\n",
    "\n",
    "https://datatofish.com/string-to-integer-dataframe/ \n",
    "\n",
    "https://www.youtube.com/watch?v=GOuUGWGUT14 \n"
   ]
  },
  {
   "cell_type": "code",
   "execution_count": 33,
   "metadata": {
    "slideshow": {
     "slide_type": "skip"
    }
   },
   "outputs": [
    {
     "name": "stdout",
     "output_type": "stream",
     "text": [
      "[NbConvertApp] WARNING | pattern 'Communication-Data.ipynb' matched no files\n",
      "This application is used to convert notebook files (*.ipynb) to various other\n",
      "formats.\n",
      "\n",
      "WARNING: THE COMMANDLINE INTERFACE MAY CHANGE IN FUTURE RELEASES.\n",
      "\n",
      "Options\n",
      "-------\n",
      "\n",
      "Arguments that take values are actually convenience aliases to full\n",
      "Configurables, whose aliases are listed on the help line. For more information\n",
      "on full configurables, see '--help-all'.\n",
      "\n",
      "--debug\n",
      "    set log level to logging.DEBUG (maximize logging output)\n",
      "--generate-config\n",
      "    generate default config file\n",
      "-y\n",
      "    Answer yes to any questions instead of prompting.\n",
      "--execute\n",
      "    Execute the notebook prior to export.\n",
      "--allow-errors\n",
      "    Continue notebook execution even if one of the cells throws an error and include the error message in the cell output (the default behaviour is to abort conversion). This flag is only relevant if '--execute' was specified, too.\n",
      "--stdin\n",
      "    read a single notebook file from stdin. Write the resulting notebook with default basename 'notebook.*'\n",
      "--stdout\n",
      "    Write notebook output to stdout instead of files.\n",
      "--inplace\n",
      "    Run nbconvert in place, overwriting the existing notebook (only \n",
      "    relevant when converting to notebook format)\n",
      "--clear-output\n",
      "    Clear output of current file and save in place, \n",
      "    overwriting the existing notebook.\n",
      "--no-prompt\n",
      "    Exclude input and output prompts from converted document.\n",
      "--no-input\n",
      "    Exclude input cells and output prompts from converted document. \n",
      "    This mode is ideal for generating code-free reports.\n",
      "--log-level=<Enum> (Application.log_level)\n",
      "    Default: 30\n",
      "    Choices: (0, 10, 20, 30, 40, 50, 'DEBUG', 'INFO', 'WARN', 'ERROR', 'CRITICAL')\n",
      "    Set the log level by value or name.\n",
      "--config=<Unicode> (JupyterApp.config_file)\n",
      "    Default: ''\n",
      "    Full path of a config file.\n",
      "--to=<Unicode> (NbConvertApp.export_format)\n",
      "    Default: 'html'\n",
      "    The export format to be used, either one of the built-in formats\n",
      "    ['asciidoc', 'custom', 'html', 'latex', 'markdown', 'notebook', 'pdf',\n",
      "    'python', 'rst', 'script', 'slides'] or a dotted object name that represents\n",
      "    the import path for an `Exporter` class\n",
      "--template=<Unicode> (TemplateExporter.template_file)\n",
      "    Default: ''\n",
      "    Name of the template file to use\n",
      "--writer=<DottedObjectName> (NbConvertApp.writer_class)\n",
      "    Default: 'FilesWriter'\n",
      "    Writer class used to write the  results of the conversion\n",
      "--post=<DottedOrNone> (NbConvertApp.postprocessor_class)\n",
      "    Default: ''\n",
      "    PostProcessor class used to write the results of the conversion\n",
      "--output=<Unicode> (NbConvertApp.output_base)\n",
      "    Default: ''\n",
      "    overwrite base name use for output files. can only be used when converting\n",
      "    one notebook at a time.\n",
      "--output-dir=<Unicode> (FilesWriter.build_directory)\n",
      "    Default: ''\n",
      "    Directory to write output(s) to. Defaults to output to the directory of each\n",
      "    notebook. To recover previous default behaviour (outputting to the current\n",
      "    working directory) use . as the flag value.\n",
      "--reveal-prefix=<Unicode> (SlidesExporter.reveal_url_prefix)\n",
      "    Default: ''\n",
      "    The URL prefix for reveal.js (version 3.x). This defaults to the reveal CDN,\n",
      "    but can be any url pointing to a copy  of reveal.js.\n",
      "    For speaker notes to work, this must be a relative path to a local  copy of\n",
      "    reveal.js: e.g., \"reveal.js\".\n",
      "    If a relative path is given, it must be a subdirectory of the current\n",
      "    directory (from which the server is run).\n",
      "    See the usage documentation\n",
      "    (https://nbconvert.readthedocs.io/en/latest/usage.html#reveal-js-html-\n",
      "    slideshow) for more details.\n",
      "--nbformat=<Enum> (NotebookExporter.nbformat_version)\n",
      "    Default: 4\n",
      "    Choices: [1, 2, 3, 4]\n",
      "    The nbformat version to write. Use this to downgrade notebooks.\n",
      "\n",
      "To see all available configurables, use `--help-all`\n",
      "\n",
      "Examples\n",
      "--------\n",
      "\n",
      "    The simplest way to use nbconvert is\n",
      "    \n",
      "    > jupyter nbconvert mynotebook.ipynb\n",
      "    \n",
      "    which will convert mynotebook.ipynb to the default format (probably HTML).\n",
      "    \n",
      "    You can specify the export format with `--to`.\n",
      "    Options include ['asciidoc', 'custom', 'html', 'latex', 'markdown', 'notebook', 'pdf', 'python', 'rst', 'script', 'slides'].\n",
      "    \n",
      "    > jupyter nbconvert --to latex mynotebook.ipynb\n",
      "    \n",
      "    Both HTML and LaTeX support multiple output templates. LaTeX includes\n",
      "    'base', 'article' and 'report'.  HTML includes 'basic' and 'full'. You\n",
      "    can specify the flavor of the format used.\n",
      "    \n",
      "    > jupyter nbconvert --to html --template basic mynotebook.ipynb\n",
      "    \n",
      "    You can also pipe the output to stdout, rather than a file\n",
      "    \n",
      "    > jupyter nbconvert mynotebook.ipynb --stdout\n",
      "    \n",
      "    PDF is generated via latex\n",
      "    \n",
      "    > jupyter nbconvert mynotebook.ipynb --to pdf\n",
      "    \n",
      "    You can get (and serve) a Reveal.js-powered slideshow\n",
      "    \n",
      "    > jupyter nbconvert myslides.ipynb --to slides --post serve\n",
      "    \n",
      "    Multiple notebooks can be given at the command line in a couple of \n",
      "    different ways:\n",
      "    \n",
      "    > jupyter nbconvert notebook*.ipynb\n",
      "    > jupyter nbconvert notebook1.ipynb notebook2.ipynb\n",
      "    \n",
      "    or you can specify the notebooks list in a config file, containing::\n",
      "    \n",
      "        c.NbConvertApp.notebooks = [\"my_notebook.ipynb\"]\n",
      "    \n",
      "    > jupyter nbconvert --config mycfg.py\n",
      "\n"
     ]
    }
   ],
   "source": [
    "!jupyter nbconvert Communication-Data.ipynb --to slides --template output-toggle.tpl --post serve"
   ]
  },
  {
   "cell_type": "code",
   "execution_count": null,
   "metadata": {},
   "outputs": [],
   "source": []
  }
 ],
 "metadata": {
  "celltoolbar": "Slideshow",
  "kernelspec": {
   "display_name": "Python 3",
   "language": "python",
   "name": "python3"
  },
  "language_info": {
   "codemirror_mode": {
    "name": "ipython",
    "version": 3
   },
   "file_extension": ".py",
   "mimetype": "text/x-python",
   "name": "python",
   "nbconvert_exporter": "python",
   "pygments_lexer": "ipython3",
   "version": "3.7.6"
  }
 },
 "nbformat": 4,
 "nbformat_minor": 4
}
