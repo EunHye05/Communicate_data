{
 "cells": [
  {
   "cell_type": "code",
   "execution_count": 141,
   "metadata": {},
   "outputs": [],
   "source": [
    "import numpy as np\n",
    "import pandas as pd\n",
    "import matplotlib.pyplot as plt\n",
    "import seaborn as sb\n",
    "import datetime\n",
    "import requests\n",
    "import os\n",
    "import zipfile\n"
   ]
  },
  {
   "cell_type": "markdown",
   "metadata": {},
   "source": [
    "### Wrangle Data"
   ]
  },
  {
   "cell_type": "markdown",
   "metadata": {},
   "source": [
    "#### Gather, Assess, then Clean Data before moving on to exploratory analysis"
   ]
  },
  {
   "cell_type": "markdown",
   "metadata": {},
   "source": [
    "### Gathering"
   ]
  },
  {
   "cell_type": "code",
   "execution_count": 142,
   "metadata": {},
   "outputs": [],
   "source": [
    "df = pd.read_csv('201810-fordgobike-tripdata.csv')"
   ]
  },
  {
   "cell_type": "markdown",
   "metadata": {},
   "source": [
    "### Assessing"
   ]
  },
  {
   "cell_type": "markdown",
   "metadata": {},
   "source": [
    "df.shape"
   ]
  },
  {
   "cell_type": "code",
   "execution_count": 144,
   "metadata": {},
   "outputs": [
    {
     "data": {
      "text/html": [
       "<div>\n",
       "<style scoped>\n",
       "    .dataframe tbody tr th:only-of-type {\n",
       "        vertical-align: middle;\n",
       "    }\n",
       "\n",
       "    .dataframe tbody tr th {\n",
       "        vertical-align: top;\n",
       "    }\n",
       "\n",
       "    .dataframe thead th {\n",
       "        text-align: right;\n",
       "    }\n",
       "</style>\n",
       "<table border=\"1\" class=\"dataframe\">\n",
       "  <thead>\n",
       "    <tr style=\"text-align: right;\">\n",
       "      <th></th>\n",
       "      <th>duration_sec</th>\n",
       "      <th>start_time</th>\n",
       "      <th>end_time</th>\n",
       "      <th>start_station_id</th>\n",
       "      <th>start_station_name</th>\n",
       "      <th>start_station_latitude</th>\n",
       "      <th>start_station_longitude</th>\n",
       "      <th>end_station_id</th>\n",
       "      <th>end_station_name</th>\n",
       "      <th>end_station_latitude</th>\n",
       "      <th>end_station_longitude</th>\n",
       "      <th>bike_id</th>\n",
       "      <th>user_type</th>\n",
       "      <th>bike_share_for_all_trip</th>\n",
       "    </tr>\n",
       "  </thead>\n",
       "  <tbody>\n",
       "    <tr>\n",
       "      <th>180379</th>\n",
       "      <td>657</td>\n",
       "      <td>2018-10-03 18:43:50.7040</td>\n",
       "      <td>2018-10-03 18:54:47.7430</td>\n",
       "      <td>61.0</td>\n",
       "      <td>Howard St at 8th St</td>\n",
       "      <td>37.776513</td>\n",
       "      <td>-122.411306</td>\n",
       "      <td>364.0</td>\n",
       "      <td>Mission Rock St at 3rd St</td>\n",
       "      <td>37.772886</td>\n",
       "      <td>-122.389940</td>\n",
       "      <td>3803</td>\n",
       "      <td>Subscriber</td>\n",
       "      <td>No</td>\n",
       "    </tr>\n",
       "    <tr>\n",
       "      <th>170318</th>\n",
       "      <td>515</td>\n",
       "      <td>2018-10-05 08:20:51.1440</td>\n",
       "      <td>2018-10-05 08:29:26.2530</td>\n",
       "      <td>312.0</td>\n",
       "      <td>San Jose Diridon Station</td>\n",
       "      <td>37.329732</td>\n",
       "      <td>-121.901782</td>\n",
       "      <td>310.0</td>\n",
       "      <td>San Fernando St at 4th St</td>\n",
       "      <td>37.335885</td>\n",
       "      <td>-121.885660</td>\n",
       "      <td>625</td>\n",
       "      <td>Subscriber</td>\n",
       "      <td>No</td>\n",
       "    </tr>\n",
       "    <tr>\n",
       "      <th>62668</th>\n",
       "      <td>620</td>\n",
       "      <td>2018-10-22 13:13:29.0600</td>\n",
       "      <td>2018-10-22 13:23:50.0050</td>\n",
       "      <td>70.0</td>\n",
       "      <td>Central Ave at Fell St</td>\n",
       "      <td>37.773311</td>\n",
       "      <td>-122.444293</td>\n",
       "      <td>121.0</td>\n",
       "      <td>Mission Playground</td>\n",
       "      <td>37.759210</td>\n",
       "      <td>-122.421339</td>\n",
       "      <td>3943</td>\n",
       "      <td>Subscriber</td>\n",
       "      <td>No</td>\n",
       "    </tr>\n",
       "    <tr>\n",
       "      <th>56389</th>\n",
       "      <td>970</td>\n",
       "      <td>2018-10-23 09:28:40.1100</td>\n",
       "      <td>2018-10-23 09:44:50.1600</td>\n",
       "      <td>285.0</td>\n",
       "      <td>Webster St at O'Farrell St</td>\n",
       "      <td>37.783521</td>\n",
       "      <td>-122.431158</td>\n",
       "      <td>350.0</td>\n",
       "      <td>8th St at Brannan St</td>\n",
       "      <td>37.771431</td>\n",
       "      <td>-122.405787</td>\n",
       "      <td>1667</td>\n",
       "      <td>Subscriber</td>\n",
       "      <td>No</td>\n",
       "    </tr>\n",
       "    <tr>\n",
       "      <th>96190</th>\n",
       "      <td>1412</td>\n",
       "      <td>2018-10-16 19:56:52.2030</td>\n",
       "      <td>2018-10-16 20:20:24.2340</td>\n",
       "      <td>206.0</td>\n",
       "      <td>College Ave at Bryant Ave</td>\n",
       "      <td>37.838127</td>\n",
       "      <td>-122.251271</td>\n",
       "      <td>244.0</td>\n",
       "      <td>Shattuck Ave at Hearst Ave</td>\n",
       "      <td>37.873676</td>\n",
       "      <td>-122.268487</td>\n",
       "      <td>877</td>\n",
       "      <td>Subscriber</td>\n",
       "      <td>No</td>\n",
       "    </tr>\n",
       "  </tbody>\n",
       "</table>\n",
       "</div>"
      ],
      "text/plain": [
       "        duration_sec                start_time                  end_time  \\\n",
       "180379           657  2018-10-03 18:43:50.7040  2018-10-03 18:54:47.7430   \n",
       "170318           515  2018-10-05 08:20:51.1440  2018-10-05 08:29:26.2530   \n",
       "62668            620  2018-10-22 13:13:29.0600  2018-10-22 13:23:50.0050   \n",
       "56389            970  2018-10-23 09:28:40.1100  2018-10-23 09:44:50.1600   \n",
       "96190           1412  2018-10-16 19:56:52.2030  2018-10-16 20:20:24.2340   \n",
       "\n",
       "        start_station_id          start_station_name  start_station_latitude  \\\n",
       "180379              61.0         Howard St at 8th St               37.776513   \n",
       "170318             312.0    San Jose Diridon Station               37.329732   \n",
       "62668               70.0      Central Ave at Fell St               37.773311   \n",
       "56389              285.0  Webster St at O'Farrell St               37.783521   \n",
       "96190              206.0   College Ave at Bryant Ave               37.838127   \n",
       "\n",
       "        start_station_longitude  end_station_id            end_station_name  \\\n",
       "180379              -122.411306           364.0   Mission Rock St at 3rd St   \n",
       "170318              -121.901782           310.0   San Fernando St at 4th St   \n",
       "62668               -122.444293           121.0          Mission Playground   \n",
       "56389               -122.431158           350.0        8th St at Brannan St   \n",
       "96190               -122.251271           244.0  Shattuck Ave at Hearst Ave   \n",
       "\n",
       "        end_station_latitude  end_station_longitude  bike_id   user_type  \\\n",
       "180379             37.772886            -122.389940     3803  Subscriber   \n",
       "170318             37.335885            -121.885660      625  Subscriber   \n",
       "62668              37.759210            -122.421339     3943  Subscriber   \n",
       "56389              37.771431            -122.405787     1667  Subscriber   \n",
       "96190              37.873676            -122.268487      877  Subscriber   \n",
       "\n",
       "       bike_share_for_all_trip  \n",
       "180379                      No  \n",
       "170318                      No  \n",
       "62668                       No  \n",
       "56389                       No  \n",
       "96190                       No  "
      ]
     },
     "execution_count": 144,
     "metadata": {},
     "output_type": "execute_result"
    }
   ],
   "source": [
    "df.sample(5)"
   ]
  },
  {
   "cell_type": "code",
   "execution_count": 145,
   "metadata": {},
   "outputs": [
    {
     "name": "stdout",
     "output_type": "stream",
     "text": [
      "<class 'pandas.core.frame.DataFrame'>\n",
      "RangeIndex: 201458 entries, 0 to 201457\n",
      "Data columns (total 14 columns):\n",
      " #   Column                   Non-Null Count   Dtype  \n",
      "---  ------                   --------------   -----  \n",
      " 0   duration_sec             201458 non-null  int64  \n",
      " 1   start_time               201458 non-null  object \n",
      " 2   end_time                 201458 non-null  object \n",
      " 3   start_station_id         200102 non-null  float64\n",
      " 4   start_station_name       200102 non-null  object \n",
      " 5   start_station_latitude   201458 non-null  float64\n",
      " 6   start_station_longitude  201458 non-null  float64\n",
      " 7   end_station_id           200102 non-null  float64\n",
      " 8   end_station_name         200102 non-null  object \n",
      " 9   end_station_latitude     201458 non-null  float64\n",
      " 10  end_station_longitude    201458 non-null  float64\n",
      " 11  bike_id                  201458 non-null  int64  \n",
      " 12  user_type                201458 non-null  object \n",
      " 13  bike_share_for_all_trip  201458 non-null  object \n",
      "dtypes: float64(6), int64(2), object(6)\n",
      "memory usage: 21.5+ MB\n"
     ]
    }
   ],
   "source": [
    "df.info()"
   ]
  },
  {
   "cell_type": "markdown",
   "metadata": {},
   "source": [
    "Detect 1: start_time and end_time is not in datetime data type."
   ]
  },
  {
   "cell_type": "markdown",
   "metadata": {},
   "source": [
    "Detect 2: Ids are ideal to be in integer datatype not float. Therefore Start_station_id, end_station_id need to change the data type."
   ]
  },
  {
   "cell_type": "markdown",
   "metadata": {},
   "source": [
    "Detect 3: user_type and bike_share_for_all_trip should be in bool data type."
   ]
  },
  {
   "cell_type": "code",
   "execution_count": 146,
   "metadata": {},
   "outputs": [
    {
     "data": {
      "text/plain": [
       "duration_sec                  0\n",
       "start_time                    0\n",
       "end_time                      0\n",
       "start_station_id           1356\n",
       "start_station_name         1356\n",
       "start_station_latitude        0\n",
       "start_station_longitude       0\n",
       "end_station_id             1356\n",
       "end_station_name           1356\n",
       "end_station_latitude          0\n",
       "end_station_longitude         0\n",
       "bike_id                       0\n",
       "user_type                     0\n",
       "bike_share_for_all_trip       0\n",
       "dtype: int64"
      ]
     },
     "execution_count": 146,
     "metadata": {},
     "output_type": "execute_result"
    }
   ],
   "source": [
    "df.isnull().sum()"
   ]
  },
  {
   "cell_type": "markdown",
   "metadata": {},
   "source": [
    "Detect 4: Null values detected undert start_station_id, start_station_name, end_station_id, end_station_name. Drop the rows with null values"
   ]
  },
  {
   "cell_type": "code",
   "execution_count": 147,
   "metadata": {},
   "outputs": [
    {
     "data": {
      "text/plain": [
       "0"
      ]
     },
     "execution_count": 147,
     "metadata": {},
     "output_type": "execute_result"
    }
   ],
   "source": [
    "df.duplicated().sum()"
   ]
  },
  {
   "cell_type": "code",
   "execution_count": 150,
   "metadata": {},
   "outputs": [
    {
     "data": {
      "text/plain": [
       "201139"
      ]
     },
     "execution_count": 150,
     "metadata": {},
     "output_type": "execute_result"
    }
   ],
   "source": [
    "df['start_station_id'].duplicated().sum()"
   ]
  },
  {
   "cell_type": "code",
   "execution_count": 151,
   "metadata": {},
   "outputs": [
    {
     "data": {
      "text/plain": [
       "201139"
      ]
     },
     "execution_count": 151,
     "metadata": {},
     "output_type": "execute_result"
    }
   ],
   "source": [
    "df['end_station_id'].duplicated().sum()"
   ]
  },
  {
   "cell_type": "code",
   "execution_count": 152,
   "metadata": {},
   "outputs": [
    {
     "data": {
      "text/plain": [
       "198545"
      ]
     },
     "execution_count": 152,
     "metadata": {},
     "output_type": "execute_result"
    }
   ],
   "source": [
    "df['bike_id'].duplicated().sum()"
   ]
  },
  {
   "cell_type": "markdown",
   "metadata": {},
   "source": [
    "### Cleaning"
   ]
  },
  {
   "cell_type": "markdown",
   "metadata": {},
   "source": [
    "1. Change start_time and end_time data type to datetime"
   ]
  },
  {
   "cell_type": "code",
   "execution_count": 153,
   "metadata": {},
   "outputs": [],
   "source": [
    "df['start_time'] = pd.to_datetime(df['start_time'])\n",
    "df['end_time'] = pd.to_datetime(df['end_time'])"
   ]
  },
  {
   "cell_type": "markdown",
   "metadata": {},
   "source": [
    "2. Change data type for Start_station_id, end_station_id, bike_id to int."
   ]
  },
  {
   "cell_type": "code",
   "execution_count": null,
   "metadata": {},
   "outputs": [],
   "source": [
    "df['start_station_id']=df['start_station_id'].astype('int')\n",
    "df['end_station_id']=df['end_station_id'].astype('int')\n",
    "df['bike_id'] = pd.to_numeric(df['bike_id'])"
   ]
  },
  {
   "cell_type": "markdown",
   "metadata": {},
   "source": [
    "3. user_type and bike_share_for_all_trip should be in category and bool data type."
   ]
  },
  {
   "cell_type": "code",
   "execution_count": null,
   "metadata": {},
   "outputs": [],
   "source": [
    "df['user_type'] = df['user_type'].astype('category')\n",
    "df['bike_share_for_all_trip'] = df['bike_share_for_all_trip'].astype('category')"
   ]
  },
  {
   "cell_type": "code",
   "execution_count": 155,
   "metadata": {},
   "outputs": [
    {
     "name": "stdout",
     "output_type": "stream",
     "text": [
      "<class 'pandas.core.frame.DataFrame'>\n",
      "RangeIndex: 201458 entries, 0 to 201457\n",
      "Data columns (total 14 columns):\n",
      " #   Column                   Non-Null Count   Dtype         \n",
      "---  ------                   --------------   -----         \n",
      " 0   duration_sec             201458 non-null  int64         \n",
      " 1   start_time               201458 non-null  datetime64[ns]\n",
      " 2   end_time                 201458 non-null  datetime64[ns]\n",
      " 3   start_station_id         200102 non-null  float64       \n",
      " 4   start_station_name       200102 non-null  object        \n",
      " 5   start_station_latitude   201458 non-null  float64       \n",
      " 6   start_station_longitude  201458 non-null  float64       \n",
      " 7   end_station_id           200102 non-null  float64       \n",
      " 8   end_station_name         200102 non-null  object        \n",
      " 9   end_station_latitude     201458 non-null  float64       \n",
      " 10  end_station_longitude    201458 non-null  float64       \n",
      " 11  bike_id                  201458 non-null  int64         \n",
      " 12  user_type                201458 non-null  object        \n",
      " 13  bike_share_for_all_trip  201458 non-null  object        \n",
      "dtypes: datetime64[ns](2), float64(6), int64(2), object(4)\n",
      "memory usage: 21.5+ MB\n"
     ]
    }
   ],
   "source": [
    "df.info()"
   ]
  },
  {
   "cell_type": "markdown",
   "metadata": {},
   "source": [
    "4. Drop the rows with null values under start_station_id, start_station_name, end_station_id, end_station_name."
   ]
  },
  {
   "cell_type": "code",
   "execution_count": 158,
   "metadata": {},
   "outputs": [],
   "source": [
    "df = df.dropna(how='any',axis=0) "
   ]
  },
  {
   "cell_type": "code",
   "execution_count": 159,
   "metadata": {},
   "outputs": [
    {
     "data": {
      "text/plain": [
       "duration_sec               0\n",
       "start_time                 0\n",
       "end_time                   0\n",
       "start_station_id           0\n",
       "start_station_name         0\n",
       "start_station_latitude     0\n",
       "start_station_longitude    0\n",
       "end_station_id             0\n",
       "end_station_name           0\n",
       "end_station_latitude       0\n",
       "end_station_longitude      0\n",
       "bike_id                    0\n",
       "user_type                  0\n",
       "bike_share_for_all_trip    0\n",
       "dtype: int64"
      ]
     },
     "execution_count": 159,
     "metadata": {},
     "output_type": "execute_result"
    }
   ],
   "source": [
    "df.isnull().sum()"
   ]
  },
  {
   "cell_type": "code",
   "execution_count": 160,
   "metadata": {},
   "outputs": [
    {
     "data": {
      "text/plain": [
       "(200102, 14)"
      ]
     },
     "execution_count": 160,
     "metadata": {},
     "output_type": "execute_result"
    }
   ],
   "source": [
    "df.shape"
   ]
  },
  {
   "cell_type": "markdown",
   "metadata": {},
   "source": [
    "### What is the structure of your dataset? \n",
    "### What is/are the main feature(s) of interest in your dataset? \n",
    "### What features in the dataset do you think will help support your investigation into your feature(s) of interest? "
   ]
  },
  {
   "cell_type": "code",
   "execution_count": null,
   "metadata": {},
   "outputs": [],
   "source": []
  }
 ],
 "metadata": {
  "kernelspec": {
   "display_name": "Python 3",
   "language": "python",
   "name": "python3"
  },
  "language_info": {
   "codemirror_mode": {
    "name": "ipython",
    "version": 3
   },
   "file_extension": ".py",
   "mimetype": "text/x-python",
   "name": "python",
   "nbconvert_exporter": "python",
   "pygments_lexer": "ipython3",
   "version": "3.7.6"
  }
 },
 "nbformat": 4,
 "nbformat_minor": 4
}
